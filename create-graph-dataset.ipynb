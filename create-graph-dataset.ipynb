{
 "cells": [
  {
   "cell_type": "markdown",
   "id": "08858146",
   "metadata": {},
   "source": [
    "# Create Graph Dataset"
   ]
  },
  {
   "cell_type": "markdown",
   "id": "d2c5861d",
   "metadata": {},
   "source": [
    "In this notebook, we put [BuzzFeed dataset](https://github.com/KaiDMML/FakeNewsNet/tree/old-version/Data/BuzzFeed) from the 2018 version of FakeNewsNet into a format that can be loaded to a Neptune cluster. To get the raw data, you can:\n",
    "1. Clone the [FakeNewsNet repository](https://github.com/KaiDMML/FakeNewsNet) from GitHub\n",
    "2. Checkout the old-version branch\n",
    "3. Change directory to Data/BuzzFeed\n",
    "\n",
    "Once we have created `nodes` and `edges` csv files that are compatible with Amazon Neptune, we upload them to a staging S3 bucket and then to our Neptune database."
   ]
  },
  {
   "cell_type": "markdown",
   "id": "912ff2c5",
   "metadata": {},
   "source": [
    "## Setup"
   ]
  },
  {
   "cell_type": "code",
   "execution_count": 60,
   "id": "1de76750",
   "metadata": {},
   "outputs": [],
   "source": [
    "# import required libraries\n",
    "import pandas as pd\n",
    "import scipy.io\n",
    "import json\n",
    "import numpy as np\n",
    "from sklearn.decomposition import PCA\n",
    "from sklearn.preprocessing import StandardScaler\n",
    "import boto3\n",
    "import utils.neptune_ml_utils as neptune_ml"
   ]
  },
  {
   "cell_type": "markdown",
   "id": "2c7b7b9b",
   "metadata": {},
   "source": [
    "## Read Data"
   ]
  },
  {
   "cell_type": "markdown",
   "id": "582c0878",
   "metadata": {},
   "source": [
    "This notebook assumes BuzzFeed data from the 2018 version of FakeNewsNet are located under `./Data/BuzzFeed/` relative to this notebook."
   ]
  },
  {
   "cell_type": "code",
   "execution_count": 2,
   "id": "799c7429",
   "metadata": {},
   "outputs": [],
   "source": [
    "# read raw data for users \n",
    "users = pd.read_csv('./Data/BuzzFeed/User.txt', header=None)"
   ]
  },
  {
   "cell_type": "code",
   "execution_count": 3,
   "id": "d226af28",
   "metadata": {},
   "outputs": [
    {
     "data": {
      "text/html": [
       "<div>\n",
       "<style scoped>\n",
       "    .dataframe tbody tr th:only-of-type {\n",
       "        vertical-align: middle;\n",
       "    }\n",
       "\n",
       "    .dataframe tbody tr th {\n",
       "        vertical-align: top;\n",
       "    }\n",
       "\n",
       "    .dataframe thead th {\n",
       "        text-align: right;\n",
       "    }\n",
       "</style>\n",
       "<table border=\"1\" class=\"dataframe\">\n",
       "  <thead>\n",
       "    <tr style=\"text-align: right;\">\n",
       "      <th></th>\n",
       "      <th>0</th>\n",
       "    </tr>\n",
       "  </thead>\n",
       "  <tbody>\n",
       "    <tr>\n",
       "      <th>0</th>\n",
       "      <td>98d2b98ce305174e2f6c10b8f8a1a9d5</td>\n",
       "    </tr>\n",
       "    <tr>\n",
       "      <th>1</th>\n",
       "      <td>a273d0fd07c18a884ce2aa425813eb06</td>\n",
       "    </tr>\n",
       "    <tr>\n",
       "      <th>2</th>\n",
       "      <td>ac091e92df9e854a07563ffb397925d4</td>\n",
       "    </tr>\n",
       "    <tr>\n",
       "      <th>3</th>\n",
       "      <td>d2ded2de054f2ceb43dff7f80fc46774</td>\n",
       "    </tr>\n",
       "    <tr>\n",
       "      <th>4</th>\n",
       "      <td>3f2b23abf0e842f6bc97eed85596ff50</td>\n",
       "    </tr>\n",
       "  </tbody>\n",
       "</table>\n",
       "</div>"
      ],
      "text/plain": [
       "                                  0\n",
       "0  98d2b98ce305174e2f6c10b8f8a1a9d5\n",
       "1  a273d0fd07c18a884ce2aa425813eb06\n",
       "2  ac091e92df9e854a07563ffb397925d4\n",
       "3  d2ded2de054f2ceb43dff7f80fc46774\n",
       "4  3f2b23abf0e842f6bc97eed85596ff50"
      ]
     },
     "execution_count": 3,
     "metadata": {},
     "output_type": "execute_result"
    }
   ],
   "source": [
    "users.head()"
   ]
  },
  {
   "cell_type": "markdown",
   "id": "14ef2c9d",
   "metadata": {},
   "source": [
    "Each row in the above DataFrame provides a UIID for the corresponding user in the dataset!"
   ]
  },
  {
   "cell_type": "code",
   "execution_count": 4,
   "id": "73047ca5",
   "metadata": {},
   "outputs": [
    {
     "data": {
      "text/plain": [
       "(15257, 1)"
      ]
     },
     "execution_count": 4,
     "metadata": {},
     "output_type": "execute_result"
    }
   ],
   "source": [
    "users.shape"
   ]
  },
  {
   "cell_type": "markdown",
   "id": "7af69c77",
   "metadata": {},
   "source": [
    "We have a total of 15,257 users in this dataset!"
   ]
  },
  {
   "cell_type": "code",
   "execution_count": 5,
   "id": "4551a65e",
   "metadata": {},
   "outputs": [],
   "source": [
    "# read raw data for news \n",
    "news = pd.read_csv('./Data/BuzzFeed/News.txt', header=None)"
   ]
  },
  {
   "cell_type": "code",
   "execution_count": 6,
   "id": "e7e3c132",
   "metadata": {},
   "outputs": [
    {
     "data": {
      "text/html": [
       "<div>\n",
       "<style scoped>\n",
       "    .dataframe tbody tr th:only-of-type {\n",
       "        vertical-align: middle;\n",
       "    }\n",
       "\n",
       "    .dataframe tbody tr th {\n",
       "        vertical-align: top;\n",
       "    }\n",
       "\n",
       "    .dataframe thead th {\n",
       "        text-align: right;\n",
       "    }\n",
       "</style>\n",
       "<table border=\"1\" class=\"dataframe\">\n",
       "  <thead>\n",
       "    <tr style=\"text-align: right;\">\n",
       "      <th></th>\n",
       "      <th>0</th>\n",
       "    </tr>\n",
       "  </thead>\n",
       "  <tbody>\n",
       "    <tr>\n",
       "      <th>0</th>\n",
       "      <td>BuzzFeed_Real_1</td>\n",
       "    </tr>\n",
       "    <tr>\n",
       "      <th>1</th>\n",
       "      <td>BuzzFeed_Real_2</td>\n",
       "    </tr>\n",
       "    <tr>\n",
       "      <th>2</th>\n",
       "      <td>BuzzFeed_Real_3</td>\n",
       "    </tr>\n",
       "    <tr>\n",
       "      <th>3</th>\n",
       "      <td>BuzzFeed_Real_4</td>\n",
       "    </tr>\n",
       "    <tr>\n",
       "      <th>4</th>\n",
       "      <td>BuzzFeed_Real_5</td>\n",
       "    </tr>\n",
       "  </tbody>\n",
       "</table>\n",
       "</div>"
      ],
      "text/plain": [
       "                 0\n",
       "0  BuzzFeed_Real_1\n",
       "1  BuzzFeed_Real_2\n",
       "2  BuzzFeed_Real_3\n",
       "3  BuzzFeed_Real_4\n",
       "4  BuzzFeed_Real_5"
      ]
     },
     "execution_count": 6,
     "metadata": {},
     "output_type": "execute_result"
    }
   ],
   "source": [
    "news.head()"
   ]
  },
  {
   "cell_type": "markdown",
   "id": "a7b28363",
   "metadata": {},
   "source": [
    "Each row in the above DataFrame provides a name and Id for the corresponding news in the dataset!"
   ]
  },
  {
   "cell_type": "code",
   "execution_count": 7,
   "id": "3832f5df",
   "metadata": {},
   "outputs": [
    {
     "data": {
      "text/plain": [
       "(182, 1)"
      ]
     },
     "execution_count": 7,
     "metadata": {},
     "output_type": "execute_result"
    }
   ],
   "source": [
    "news.shape"
   ]
  },
  {
   "cell_type": "markdown",
   "id": "73f991ab",
   "metadata": {},
   "source": [
    "We have a total of 182 news in this dataset!"
   ]
  },
  {
   "cell_type": "code",
   "execution_count": 8,
   "id": "faf33dc5",
   "metadata": {},
   "outputs": [],
   "source": [
    "# read data about news_user relationships\n",
    "news_user = pd.read_csv('./Data/BuzzFeed/BuzzFeedNewsUser.txt', sep='\\t', header=None)"
   ]
  },
  {
   "cell_type": "code",
   "execution_count": 9,
   "id": "908721bb",
   "metadata": {},
   "outputs": [
    {
     "data": {
      "text/html": [
       "<div>\n",
       "<style scoped>\n",
       "    .dataframe tbody tr th:only-of-type {\n",
       "        vertical-align: middle;\n",
       "    }\n",
       "\n",
       "    .dataframe tbody tr th {\n",
       "        vertical-align: top;\n",
       "    }\n",
       "\n",
       "    .dataframe thead th {\n",
       "        text-align: right;\n",
       "    }\n",
       "</style>\n",
       "<table border=\"1\" class=\"dataframe\">\n",
       "  <thead>\n",
       "    <tr style=\"text-align: right;\">\n",
       "      <th></th>\n",
       "      <th>0</th>\n",
       "      <th>1</th>\n",
       "      <th>2</th>\n",
       "    </tr>\n",
       "  </thead>\n",
       "  <tbody>\n",
       "    <tr>\n",
       "      <th>0</th>\n",
       "      <td>45</td>\n",
       "      <td>1</td>\n",
       "      <td>1</td>\n",
       "    </tr>\n",
       "    <tr>\n",
       "      <th>1</th>\n",
       "      <td>127</td>\n",
       "      <td>2</td>\n",
       "      <td>1</td>\n",
       "    </tr>\n",
       "    <tr>\n",
       "      <th>2</th>\n",
       "      <td>115</td>\n",
       "      <td>3</td>\n",
       "      <td>1</td>\n",
       "    </tr>\n",
       "    <tr>\n",
       "      <th>3</th>\n",
       "      <td>180</td>\n",
       "      <td>3</td>\n",
       "      <td>1</td>\n",
       "    </tr>\n",
       "    <tr>\n",
       "      <th>4</th>\n",
       "      <td>140</td>\n",
       "      <td>4</td>\n",
       "      <td>1</td>\n",
       "    </tr>\n",
       "  </tbody>\n",
       "</table>\n",
       "</div>"
      ],
      "text/plain": [
       "     0  1  2\n",
       "0   45  1  1\n",
       "1  127  2  1\n",
       "2  115  3  1\n",
       "3  180  3  1\n",
       "4  140  4  1"
      ]
     },
     "execution_count": 9,
     "metadata": {},
     "output_type": "execute_result"
    }
   ],
   "source": [
    "news_user.head()"
   ]
  },
  {
   "cell_type": "markdown",
   "id": "802b8c43",
   "metadata": {},
   "source": [
    "In the above DataFrame, the news_id in the first column is posted/spreaded by the user_id in the second column n times, where n is the value in the third column!"
   ]
  },
  {
   "cell_type": "code",
   "execution_count": 10,
   "id": "0e22ad0a",
   "metadata": {},
   "outputs": [
    {
     "data": {
      "text/plain": [
       "(22779, 3)"
      ]
     },
     "execution_count": 10,
     "metadata": {},
     "output_type": "execute_result"
    }
   ],
   "source": [
    "news_user.shape"
   ]
  },
  {
   "cell_type": "code",
   "execution_count": 11,
   "id": "2ad7682e",
   "metadata": {},
   "outputs": [
    {
     "data": {
      "text/plain": [
       "25240"
      ]
     },
     "execution_count": 11,
     "metadata": {},
     "output_type": "execute_result"
    }
   ],
   "source": [
    "news_user[2].sum()"
   ]
  },
  {
   "cell_type": "markdown",
   "id": "b42e8980",
   "metadata": {},
   "source": [
    "There are 22,779 unique news_user relationships and a total of 25,240 news_user relationships (accounting for users that have spread a news more than once) in the dataset!"
   ]
  },
  {
   "cell_type": "code",
   "execution_count": 12,
   "id": "e020eaef",
   "metadata": {},
   "outputs": [],
   "source": [
    "# read data about user_user relationships\n",
    "user_user = pd.read_csv('./Data/BuzzFeed/BuzzFeedUserUser.txt', sep='\\t', header=None)"
   ]
  },
  {
   "cell_type": "code",
   "execution_count": 13,
   "id": "c216feaa",
   "metadata": {},
   "outputs": [
    {
     "data": {
      "text/html": [
       "<div>\n",
       "<style scoped>\n",
       "    .dataframe tbody tr th:only-of-type {\n",
       "        vertical-align: middle;\n",
       "    }\n",
       "\n",
       "    .dataframe tbody tr th {\n",
       "        vertical-align: top;\n",
       "    }\n",
       "\n",
       "    .dataframe thead th {\n",
       "        text-align: right;\n",
       "    }\n",
       "</style>\n",
       "<table border=\"1\" class=\"dataframe\">\n",
       "  <thead>\n",
       "    <tr style=\"text-align: right;\">\n",
       "      <th></th>\n",
       "      <th>0</th>\n",
       "      <th>1</th>\n",
       "    </tr>\n",
       "  </thead>\n",
       "  <tbody>\n",
       "    <tr>\n",
       "      <th>0</th>\n",
       "      <td>48</td>\n",
       "      <td>1</td>\n",
       "    </tr>\n",
       "    <tr>\n",
       "      <th>1</th>\n",
       "      <td>899</td>\n",
       "      <td>1</td>\n",
       "    </tr>\n",
       "    <tr>\n",
       "      <th>2</th>\n",
       "      <td>6781</td>\n",
       "      <td>1</td>\n",
       "    </tr>\n",
       "    <tr>\n",
       "      <th>3</th>\n",
       "      <td>10097</td>\n",
       "      <td>1</td>\n",
       "    </tr>\n",
       "    <tr>\n",
       "      <th>4</th>\n",
       "      <td>100</td>\n",
       "      <td>2</td>\n",
       "    </tr>\n",
       "  </tbody>\n",
       "</table>\n",
       "</div>"
      ],
      "text/plain": [
       "       0  1\n",
       "0     48  1\n",
       "1    899  1\n",
       "2   6781  1\n",
       "3  10097  1\n",
       "4    100  2"
      ]
     },
     "execution_count": 13,
     "metadata": {},
     "output_type": "execute_result"
    }
   ],
   "source": [
    "user_user.head()"
   ]
  },
  {
   "cell_type": "markdown",
   "id": "0af22d32",
   "metadata": {},
   "source": [
    "In the above DataFrame, user_id in the first column follows the user_id in the second column."
   ]
  },
  {
   "cell_type": "code",
   "execution_count": 14,
   "id": "8369a815",
   "metadata": {},
   "outputs": [
    {
     "data": {
      "text/plain": [
       "(634750, 2)"
      ]
     },
     "execution_count": 14,
     "metadata": {},
     "output_type": "execute_result"
    }
   ],
   "source": [
    "user_user.shape"
   ]
  },
  {
   "cell_type": "markdown",
   "id": "74c7a92f",
   "metadata": {},
   "source": [
    "There are a total of 634,750 user_user relationships (i.e. social links) in the dataset!"
   ]
  },
  {
   "cell_type": "code",
   "execution_count": 15,
   "id": "d0a7cbe2",
   "metadata": {},
   "outputs": [],
   "source": [
    "# read raw data about user features\n",
    "user_features = scipy.io.loadmat('./Data/BuzzFeed/UserFeature.mat')['X'].toarray()"
   ]
  },
  {
   "cell_type": "code",
   "execution_count": 16,
   "id": "0adde73e",
   "metadata": {},
   "outputs": [
    {
     "data": {
      "text/plain": [
       "(15257, 109626)"
      ]
     },
     "execution_count": 16,
     "metadata": {},
     "output_type": "execute_result"
    }
   ],
   "source": [
    "user_features.shape"
   ]
  },
  {
   "cell_type": "markdown",
   "id": "f13edf5c",
   "metadata": {},
   "source": [
    "There are 109,626 features for each user! We will reduce dimentionality of the user features using PCA."
   ]
  },
  {
   "cell_type": "code",
   "execution_count": 17,
   "id": "ec80369a",
   "metadata": {},
   "outputs": [],
   "source": [
    "# reduce dimentionality of user_features using PCA\n",
    "X = user_features\n",
    "n = 100 # number of PCs\n",
    "pca = PCA(n_components = n)\n",
    "X_pca = pca.fit_transform(X)"
   ]
  },
  {
   "cell_type": "markdown",
   "id": "9e44eae3",
   "metadata": {},
   "source": [
    "## Create Nodes Table"
   ]
  },
  {
   "cell_type": "markdown",
   "id": "906c4299",
   "metadata": {},
   "source": [
    "In this section we create a DataFrame that will define nodes and their properties in the graph, in a format that is compatible with Amazon Neptune (with Apache TinkerPop Gremlin)."
   ]
  },
  {
   "cell_type": "code",
   "execution_count": 18,
   "id": "2812b9c6",
   "metadata": {},
   "outputs": [],
   "source": [
    "# create ~id and ~label for user nodes\n",
    "users['row_num'] = users.index\n",
    "users['~id'] = users.apply(lambda x: 'user_'+str(x['row_num']+1), axis=1)\n",
    "users['~label'] = 'user'\n",
    "# add user_features as a property for each user node\n",
    "users['user_features:Double[]'] = np.nan\n",
    "for i, r in users.iterrows():\n",
    "    string = \";\".join([str(val) for val in X_pca[i,:]])\n",
    "    users.loc[i, 'user_features:Double[]'] = string"
   ]
  },
  {
   "cell_type": "code",
   "execution_count": 19,
   "id": "75dd7329",
   "metadata": {},
   "outputs": [
    {
     "data": {
      "text/html": [
       "<div>\n",
       "<style scoped>\n",
       "    .dataframe tbody tr th:only-of-type {\n",
       "        vertical-align: middle;\n",
       "    }\n",
       "\n",
       "    .dataframe tbody tr th {\n",
       "        vertical-align: top;\n",
       "    }\n",
       "\n",
       "    .dataframe thead th {\n",
       "        text-align: right;\n",
       "    }\n",
       "</style>\n",
       "<table border=\"1\" class=\"dataframe\">\n",
       "  <thead>\n",
       "    <tr style=\"text-align: right;\">\n",
       "      <th></th>\n",
       "      <th>0</th>\n",
       "      <th>row_num</th>\n",
       "      <th>~id</th>\n",
       "      <th>~label</th>\n",
       "      <th>user_features:Double[]</th>\n",
       "    </tr>\n",
       "  </thead>\n",
       "  <tbody>\n",
       "    <tr>\n",
       "      <th>0</th>\n",
       "      <td>98d2b98ce305174e2f6c10b8f8a1a9d5</td>\n",
       "      <td>0</td>\n",
       "      <td>user_1</td>\n",
       "      <td>user</td>\n",
       "      <td>-6.5335629813853275;-2.539568976534804;-0.0862...</td>\n",
       "    </tr>\n",
       "    <tr>\n",
       "      <th>1</th>\n",
       "      <td>a273d0fd07c18a884ce2aa425813eb06</td>\n",
       "      <td>1</td>\n",
       "      <td>user_2</td>\n",
       "      <td>user</td>\n",
       "      <td>3.7452664109727127;-2.3658738836989692;0.37171...</td>\n",
       "    </tr>\n",
       "    <tr>\n",
       "      <th>2</th>\n",
       "      <td>ac091e92df9e854a07563ffb397925d4</td>\n",
       "      <td>2</td>\n",
       "      <td>user_3</td>\n",
       "      <td>user</td>\n",
       "      <td>-6.169060740831697;-0.4554150240050502;-2.0617...</td>\n",
       "    </tr>\n",
       "    <tr>\n",
       "      <th>3</th>\n",
       "      <td>d2ded2de054f2ceb43dff7f80fc46774</td>\n",
       "      <td>3</td>\n",
       "      <td>user_4</td>\n",
       "      <td>user</td>\n",
       "      <td>11.19523153278209;-1.182848759491067;0.3934020...</td>\n",
       "    </tr>\n",
       "    <tr>\n",
       "      <th>4</th>\n",
       "      <td>3f2b23abf0e842f6bc97eed85596ff50</td>\n",
       "      <td>4</td>\n",
       "      <td>user_5</td>\n",
       "      <td>user</td>\n",
       "      <td>-6.182361512218626;0.4971749514792787;-0.91511...</td>\n",
       "    </tr>\n",
       "  </tbody>\n",
       "</table>\n",
       "</div>"
      ],
      "text/plain": [
       "                                  0  row_num     ~id ~label  \\\n",
       "0  98d2b98ce305174e2f6c10b8f8a1a9d5        0  user_1   user   \n",
       "1  a273d0fd07c18a884ce2aa425813eb06        1  user_2   user   \n",
       "2  ac091e92df9e854a07563ffb397925d4        2  user_3   user   \n",
       "3  d2ded2de054f2ceb43dff7f80fc46774        3  user_4   user   \n",
       "4  3f2b23abf0e842f6bc97eed85596ff50        4  user_5   user   \n",
       "\n",
       "                              user_features:Double[]  \n",
       "0  -6.5335629813853275;-2.539568976534804;-0.0862...  \n",
       "1  3.7452664109727127;-2.3658738836989692;0.37171...  \n",
       "2  -6.169060740831697;-0.4554150240050502;-2.0617...  \n",
       "3  11.19523153278209;-1.182848759491067;0.3934020...  \n",
       "4  -6.182361512218626;0.4971749514792787;-0.91511...  "
      ]
     },
     "execution_count": 19,
     "metadata": {},
     "output_type": "execute_result"
    }
   ],
   "source": [
    "users.head()"
   ]
  },
  {
   "cell_type": "code",
   "execution_count": 20,
   "id": "5be61eca",
   "metadata": {},
   "outputs": [],
   "source": [
    "# create ~id and ~label for news nodes\n",
    "news['row_num'] = news.index\n",
    "news['~id'] = news.apply(lambda x: 'news_'+str(x['row_num']+1), axis=1)\n",
    "news['~label'] = 'news'\n",
    "# specify news_type as a property for news nodes\n",
    "news['news_type:String'] = news.apply(lambda x: x[0].split('_')[1], axis=1)"
   ]
  },
  {
   "cell_type": "code",
   "execution_count": 21,
   "id": "ba21205d",
   "metadata": {},
   "outputs": [
    {
     "data": {
      "text/html": [
       "<div>\n",
       "<style scoped>\n",
       "    .dataframe tbody tr th:only-of-type {\n",
       "        vertical-align: middle;\n",
       "    }\n",
       "\n",
       "    .dataframe tbody tr th {\n",
       "        vertical-align: top;\n",
       "    }\n",
       "\n",
       "    .dataframe thead th {\n",
       "        text-align: right;\n",
       "    }\n",
       "</style>\n",
       "<table border=\"1\" class=\"dataframe\">\n",
       "  <thead>\n",
       "    <tr style=\"text-align: right;\">\n",
       "      <th></th>\n",
       "      <th>0</th>\n",
       "      <th>row_num</th>\n",
       "      <th>~id</th>\n",
       "      <th>~label</th>\n",
       "      <th>news_type:String</th>\n",
       "    </tr>\n",
       "  </thead>\n",
       "  <tbody>\n",
       "    <tr>\n",
       "      <th>0</th>\n",
       "      <td>BuzzFeed_Real_1</td>\n",
       "      <td>0</td>\n",
       "      <td>news_1</td>\n",
       "      <td>news</td>\n",
       "      <td>Real</td>\n",
       "    </tr>\n",
       "    <tr>\n",
       "      <th>1</th>\n",
       "      <td>BuzzFeed_Real_2</td>\n",
       "      <td>1</td>\n",
       "      <td>news_2</td>\n",
       "      <td>news</td>\n",
       "      <td>Real</td>\n",
       "    </tr>\n",
       "    <tr>\n",
       "      <th>2</th>\n",
       "      <td>BuzzFeed_Real_3</td>\n",
       "      <td>2</td>\n",
       "      <td>news_3</td>\n",
       "      <td>news</td>\n",
       "      <td>Real</td>\n",
       "    </tr>\n",
       "    <tr>\n",
       "      <th>3</th>\n",
       "      <td>BuzzFeed_Real_4</td>\n",
       "      <td>3</td>\n",
       "      <td>news_4</td>\n",
       "      <td>news</td>\n",
       "      <td>Real</td>\n",
       "    </tr>\n",
       "    <tr>\n",
       "      <th>4</th>\n",
       "      <td>BuzzFeed_Real_5</td>\n",
       "      <td>4</td>\n",
       "      <td>news_5</td>\n",
       "      <td>news</td>\n",
       "      <td>Real</td>\n",
       "    </tr>\n",
       "  </tbody>\n",
       "</table>\n",
       "</div>"
      ],
      "text/plain": [
       "                 0  row_num     ~id ~label news_type:String\n",
       "0  BuzzFeed_Real_1        0  news_1   news             Real\n",
       "1  BuzzFeed_Real_2        1  news_2   news             Real\n",
       "2  BuzzFeed_Real_3        2  news_3   news             Real\n",
       "3  BuzzFeed_Real_4        3  news_4   news             Real\n",
       "4  BuzzFeed_Real_5        4  news_5   news             Real"
      ]
     },
     "execution_count": 21,
     "metadata": {},
     "output_type": "execute_result"
    }
   ],
   "source": [
    "news.head()"
   ]
  },
  {
   "cell_type": "code",
   "execution_count": 22,
   "id": "75653980",
   "metadata": {},
   "outputs": [
    {
     "data": {
      "text/html": [
       "<div>\n",
       "<style scoped>\n",
       "    .dataframe tbody tr th:only-of-type {\n",
       "        vertical-align: middle;\n",
       "    }\n",
       "\n",
       "    .dataframe tbody tr th {\n",
       "        vertical-align: top;\n",
       "    }\n",
       "\n",
       "    .dataframe thead th {\n",
       "        text-align: right;\n",
       "    }\n",
       "</style>\n",
       "<table border=\"1\" class=\"dataframe\">\n",
       "  <thead>\n",
       "    <tr style=\"text-align: right;\">\n",
       "      <th></th>\n",
       "      <th>0</th>\n",
       "      <th>row_num</th>\n",
       "      <th>~id</th>\n",
       "      <th>~label</th>\n",
       "      <th>news_type:String</th>\n",
       "    </tr>\n",
       "  </thead>\n",
       "  <tbody>\n",
       "    <tr>\n",
       "      <th>177</th>\n",
       "      <td>BuzzFeed_Fake_87</td>\n",
       "      <td>177</td>\n",
       "      <td>news_178</td>\n",
       "      <td>news</td>\n",
       "      <td>Fake</td>\n",
       "    </tr>\n",
       "    <tr>\n",
       "      <th>178</th>\n",
       "      <td>BuzzFeed_Fake_88</td>\n",
       "      <td>178</td>\n",
       "      <td>news_179</td>\n",
       "      <td>news</td>\n",
       "      <td>Fake</td>\n",
       "    </tr>\n",
       "    <tr>\n",
       "      <th>179</th>\n",
       "      <td>BuzzFeed_Fake_89</td>\n",
       "      <td>179</td>\n",
       "      <td>news_180</td>\n",
       "      <td>news</td>\n",
       "      <td>Fake</td>\n",
       "    </tr>\n",
       "    <tr>\n",
       "      <th>180</th>\n",
       "      <td>BuzzFeed_Fake_90</td>\n",
       "      <td>180</td>\n",
       "      <td>news_181</td>\n",
       "      <td>news</td>\n",
       "      <td>Fake</td>\n",
       "    </tr>\n",
       "    <tr>\n",
       "      <th>181</th>\n",
       "      <td>BuzzFeed_Fake_91</td>\n",
       "      <td>181</td>\n",
       "      <td>news_182</td>\n",
       "      <td>news</td>\n",
       "      <td>Fake</td>\n",
       "    </tr>\n",
       "  </tbody>\n",
       "</table>\n",
       "</div>"
      ],
      "text/plain": [
       "                    0  row_num       ~id ~label news_type:String\n",
       "177  BuzzFeed_Fake_87      177  news_178   news             Fake\n",
       "178  BuzzFeed_Fake_88      178  news_179   news             Fake\n",
       "179  BuzzFeed_Fake_89      179  news_180   news             Fake\n",
       "180  BuzzFeed_Fake_90      180  news_181   news             Fake\n",
       "181  BuzzFeed_Fake_91      181  news_182   news             Fake"
      ]
     },
     "execution_count": 22,
     "metadata": {},
     "output_type": "execute_result"
    }
   ],
   "source": [
    "news.tail()"
   ]
  },
  {
   "cell_type": "code",
   "execution_count": 23,
   "id": "1714e9d8",
   "metadata": {},
   "outputs": [],
   "source": [
    "# list of supposedly-authors appearing in the dataset who are not actually authors\n",
    "# we will filter them out when creating author nodes from NewsContent data\n",
    "non_authors = ['View All Posts', 'Cnn National Politics Reporter', 'Cnn White House Producer',\n",
    "                'Senior Political Reporter', 'Cnn Pentagon Correspondent', 'Cnn Senior Congressional Producer']"
   ]
  },
  {
   "cell_type": "code",
   "execution_count": 24,
   "id": "548904d2",
   "metadata": {},
   "outputs": [],
   "source": [
    "# initialize news_title column in news dataframe with null values\n",
    "news['news_title:String'] = np.nan"
   ]
  },
  {
   "cell_type": "code",
   "execution_count": 25,
   "id": "03adc4e9",
   "metadata": {},
   "outputs": [],
   "source": [
    "# extract list of authors and publishers from NewsContent files (i.e. authors and publishers nodes)\n",
    "authors_list = []\n",
    "publishers_list = []\n",
    "for nwz in news[0]:\n",
    "    \n",
    "    if nwz.split('_')[1]=='Real':\n",
    "        path = './Data/BuzzFeed/RealNewsContent/'+nwz+'-Webpage.json'\n",
    "    else:\n",
    "        path = './Data/BuzzFeed/FakeNewsContent/'+nwz+'-Webpage.json'\n",
    "    \n",
    "    with open(path) as fp:\n",
    "        \n",
    "        webpage = json.load(fp)\n",
    "        \n",
    "        if 'title' in webpage:\n",
    "            news_title = webpage.get('title')\n",
    "            # populate news_title column in news dataframe\n",
    "            news.loc[news[0]==nwz, 'news_title:String'] = news_title\n",
    "        \n",
    "        \n",
    "        if 'source' in webpage:\n",
    "            publisher = webpage.get('source')\n",
    "            if publisher not in publishers_list:\n",
    "                publishers_list.append(publisher)\n",
    "\n",
    "        if 'authors' in webpage: \n",
    "            for author in webpage.get('authors'):\n",
    "                if author not in authors_list and author not in non_authors:\n",
    "                    authors_list.append(author)"
   ]
  },
  {
   "cell_type": "code",
   "execution_count": 26,
   "id": "fc1fa0f8",
   "metadata": {},
   "outputs": [
    {
     "data": {
      "text/html": [
       "<div>\n",
       "<style scoped>\n",
       "    .dataframe tbody tr th:only-of-type {\n",
       "        vertical-align: middle;\n",
       "    }\n",
       "\n",
       "    .dataframe tbody tr th {\n",
       "        vertical-align: top;\n",
       "    }\n",
       "\n",
       "    .dataframe thead th {\n",
       "        text-align: right;\n",
       "    }\n",
       "</style>\n",
       "<table border=\"1\" class=\"dataframe\">\n",
       "  <thead>\n",
       "    <tr style=\"text-align: right;\">\n",
       "      <th></th>\n",
       "      <th>0</th>\n",
       "      <th>row_num</th>\n",
       "      <th>~id</th>\n",
       "      <th>~label</th>\n",
       "      <th>news_type:String</th>\n",
       "      <th>news_title:String</th>\n",
       "    </tr>\n",
       "  </thead>\n",
       "  <tbody>\n",
       "    <tr>\n",
       "      <th>0</th>\n",
       "      <td>BuzzFeed_Real_1</td>\n",
       "      <td>0</td>\n",
       "      <td>news_1</td>\n",
       "      <td>news</td>\n",
       "      <td>Real</td>\n",
       "      <td>Another Terrorist Attack in NYC…Why Are we STI...</td>\n",
       "    </tr>\n",
       "    <tr>\n",
       "      <th>1</th>\n",
       "      <td>BuzzFeed_Real_2</td>\n",
       "      <td>1</td>\n",
       "      <td>news_2</td>\n",
       "      <td>news</td>\n",
       "      <td>Real</td>\n",
       "      <td>Hillary Clinton on police shootings: 'too many...</td>\n",
       "    </tr>\n",
       "    <tr>\n",
       "      <th>2</th>\n",
       "      <td>BuzzFeed_Real_3</td>\n",
       "      <td>2</td>\n",
       "      <td>news_3</td>\n",
       "      <td>news</td>\n",
       "      <td>Real</td>\n",
       "      <td>Critical counties: Wake County, NC, could put ...</td>\n",
       "    </tr>\n",
       "    <tr>\n",
       "      <th>3</th>\n",
       "      <td>BuzzFeed_Real_4</td>\n",
       "      <td>3</td>\n",
       "      <td>news_4</td>\n",
       "      <td>news</td>\n",
       "      <td>Real</td>\n",
       "      <td>NFL Superstar Unleashes 4 Word Bombshell on Re...</td>\n",
       "    </tr>\n",
       "    <tr>\n",
       "      <th>4</th>\n",
       "      <td>BuzzFeed_Real_5</td>\n",
       "      <td>4</td>\n",
       "      <td>news_5</td>\n",
       "      <td>news</td>\n",
       "      <td>Real</td>\n",
       "      <td>Obama in NYC: 'We all have a role to play' in ...</td>\n",
       "    </tr>\n",
       "  </tbody>\n",
       "</table>\n",
       "</div>"
      ],
      "text/plain": [
       "                 0  row_num     ~id ~label news_type:String  \\\n",
       "0  BuzzFeed_Real_1        0  news_1   news             Real   \n",
       "1  BuzzFeed_Real_2        1  news_2   news             Real   \n",
       "2  BuzzFeed_Real_3        2  news_3   news             Real   \n",
       "3  BuzzFeed_Real_4        3  news_4   news             Real   \n",
       "4  BuzzFeed_Real_5        4  news_5   news             Real   \n",
       "\n",
       "                                   news_title:String  \n",
       "0  Another Terrorist Attack in NYC…Why Are we STI...  \n",
       "1  Hillary Clinton on police shootings: 'too many...  \n",
       "2  Critical counties: Wake County, NC, could put ...  \n",
       "3  NFL Superstar Unleashes 4 Word Bombshell on Re...  \n",
       "4  Obama in NYC: 'We all have a role to play' in ...  "
      ]
     },
     "execution_count": 26,
     "metadata": {},
     "output_type": "execute_result"
    }
   ],
   "source": [
    "news.head()"
   ]
  },
  {
   "cell_type": "code",
   "execution_count": 27,
   "id": "ab229dab",
   "metadata": {},
   "outputs": [
    {
     "data": {
      "text/plain": [
       "28"
      ]
     },
     "execution_count": 27,
     "metadata": {},
     "output_type": "execute_result"
    }
   ],
   "source": [
    "len(publishers_list)"
   ]
  },
  {
   "cell_type": "markdown",
   "id": "d60aa393",
   "metadata": {},
   "source": [
    "There are 28 punlishers in the dataset!"
   ]
  },
  {
   "cell_type": "code",
   "execution_count": 28,
   "id": "d7eded5f",
   "metadata": {},
   "outputs": [
    {
     "data": {
      "text/plain": [
       "['http://eaglerising.com',\n",
       " 'http://cnn.it',\n",
       " 'http://conservativebyte.com',\n",
       " 'http://politi.co',\n",
       " 'http://abcn.ws']"
      ]
     },
     "execution_count": 28,
     "metadata": {},
     "output_type": "execute_result"
    }
   ],
   "source": [
    "publishers_list[:5]"
   ]
  },
  {
   "cell_type": "code",
   "execution_count": 29,
   "id": "56927ad1",
   "metadata": {},
   "outputs": [
    {
     "data": {
      "text/plain": [
       "126"
      ]
     },
     "execution_count": 29,
     "metadata": {},
     "output_type": "execute_result"
    }
   ],
   "source": [
    "len(authors_list)"
   ]
  },
  {
   "cell_type": "markdown",
   "id": "845fed26",
   "metadata": {},
   "source": [
    "There are 126 authors in the dataset!"
   ]
  },
  {
   "cell_type": "code",
   "execution_count": 30,
   "id": "ed2df2fe",
   "metadata": {},
   "outputs": [
    {
     "data": {
      "text/plain": [
       "['Leonora Cravotta', 'Mj Lee', 'Joyce Tseng', 'Eli Watkins', 'Kevin Liptak']"
      ]
     },
     "execution_count": 30,
     "metadata": {},
     "output_type": "execute_result"
    }
   ],
   "source": [
    "authors_list[:5]"
   ]
  },
  {
   "cell_type": "code",
   "execution_count": 31,
   "id": "e0d01424",
   "metadata": {},
   "outputs": [],
   "source": [
    "# extract author_publisher, author_news and publisher_news relationships\n",
    "# from NewsContent files (i.e. author_publisher, author_news and publisher_news edges)\n",
    "author_publisher = []\n",
    "author_news = []\n",
    "publisher_news = []\n",
    "\n",
    "for news_id, nwz in enumerate(news[0]):\n",
    "    \n",
    "    if nwz.split('_')[1]=='Real':\n",
    "        path = './Data/BuzzFeed/RealNewsContent/'+nwz+'-Webpage.json'\n",
    "    else:\n",
    "        path = './Data/BuzzFeed/FakeNewsContent/'+nwz+'-Webpage.json'\n",
    "    \n",
    "    with open(path) as fp:\n",
    "        \n",
    "        webpage = json.load(fp)\n",
    "        \n",
    "        if 'source' in webpage:\n",
    "            publisher = webpage.get('source')\n",
    "            publisher_id = publishers_list.index(publisher)\n",
    "            # publisher ==> \"published\" ==> news\n",
    "            publisher_news.append((publisher_id+1, news_id+1))\n",
    "\n",
    "        if 'authors' in webpage: \n",
    "            for author in webpage.get('authors'):\n",
    "                if author not in non_authors:\n",
    "                    author_id = authors_list.index(author)\n",
    "                    # author ==> \"wrote_for\" ==> publisher\n",
    "                    author_publisher.append((author_id+1, publisher_id+1))\n",
    "                    # author ==> \"wrote\" ==> news\n",
    "                    author_news.append((author_id+1, news_id+1))"
   ]
  },
  {
   "cell_type": "code",
   "execution_count": 32,
   "id": "e5820205",
   "metadata": {},
   "outputs": [],
   "source": [
    "# create dataframe for author nodes\n",
    "authors_df = pd.DataFrame(authors_list)\n",
    "authors_df['row_num'] = authors_df.index\n",
    "authors_df['~id'] = authors_df.apply(lambda x: 'author_'+str(x['row_num']+1), axis=1)\n",
    "authors_df['~label'] = 'author'\n",
    "authors_df['author_name:String'] = authors_df[0]"
   ]
  },
  {
   "cell_type": "code",
   "execution_count": 33,
   "id": "cde037ae",
   "metadata": {
    "scrolled": true
   },
   "outputs": [
    {
     "data": {
      "text/html": [
       "<div>\n",
       "<style scoped>\n",
       "    .dataframe tbody tr th:only-of-type {\n",
       "        vertical-align: middle;\n",
       "    }\n",
       "\n",
       "    .dataframe tbody tr th {\n",
       "        vertical-align: top;\n",
       "    }\n",
       "\n",
       "    .dataframe thead th {\n",
       "        text-align: right;\n",
       "    }\n",
       "</style>\n",
       "<table border=\"1\" class=\"dataframe\">\n",
       "  <thead>\n",
       "    <tr style=\"text-align: right;\">\n",
       "      <th></th>\n",
       "      <th>0</th>\n",
       "      <th>row_num</th>\n",
       "      <th>~id</th>\n",
       "      <th>~label</th>\n",
       "      <th>author_name:String</th>\n",
       "    </tr>\n",
       "  </thead>\n",
       "  <tbody>\n",
       "    <tr>\n",
       "      <th>0</th>\n",
       "      <td>Leonora Cravotta</td>\n",
       "      <td>0</td>\n",
       "      <td>author_1</td>\n",
       "      <td>author</td>\n",
       "      <td>Leonora Cravotta</td>\n",
       "    </tr>\n",
       "    <tr>\n",
       "      <th>1</th>\n",
       "      <td>Mj Lee</td>\n",
       "      <td>1</td>\n",
       "      <td>author_2</td>\n",
       "      <td>author</td>\n",
       "      <td>Mj Lee</td>\n",
       "    </tr>\n",
       "    <tr>\n",
       "      <th>2</th>\n",
       "      <td>Joyce Tseng</td>\n",
       "      <td>2</td>\n",
       "      <td>author_3</td>\n",
       "      <td>author</td>\n",
       "      <td>Joyce Tseng</td>\n",
       "    </tr>\n",
       "    <tr>\n",
       "      <th>3</th>\n",
       "      <td>Eli Watkins</td>\n",
       "      <td>3</td>\n",
       "      <td>author_4</td>\n",
       "      <td>author</td>\n",
       "      <td>Eli Watkins</td>\n",
       "    </tr>\n",
       "    <tr>\n",
       "      <th>4</th>\n",
       "      <td>Kevin Liptak</td>\n",
       "      <td>4</td>\n",
       "      <td>author_5</td>\n",
       "      <td>author</td>\n",
       "      <td>Kevin Liptak</td>\n",
       "    </tr>\n",
       "  </tbody>\n",
       "</table>\n",
       "</div>"
      ],
      "text/plain": [
       "                  0  row_num       ~id  ~label author_name:String\n",
       "0  Leonora Cravotta        0  author_1  author   Leonora Cravotta\n",
       "1            Mj Lee        1  author_2  author             Mj Lee\n",
       "2       Joyce Tseng        2  author_3  author        Joyce Tseng\n",
       "3       Eli Watkins        3  author_4  author        Eli Watkins\n",
       "4      Kevin Liptak        4  author_5  author       Kevin Liptak"
      ]
     },
     "execution_count": 33,
     "metadata": {},
     "output_type": "execute_result"
    }
   ],
   "source": [
    "authors_df.head()"
   ]
  },
  {
   "cell_type": "code",
   "execution_count": 34,
   "id": "af616792",
   "metadata": {},
   "outputs": [],
   "source": [
    "# create dataframe for publisher nodes\n",
    "publishers_df = pd.DataFrame(publishers_list)\n",
    "publishers_df['row_num'] = publishers_df.index\n",
    "publishers_df['~id'] = publishers_df.apply(lambda x: 'publisher_'+str(x['row_num']+1), axis=1)\n",
    "publishers_df['~label'] = 'publisher'\n",
    "publishers_df['publisher_website:String'] = publishers_df[0]"
   ]
  },
  {
   "cell_type": "code",
   "execution_count": 35,
   "id": "eac27cce",
   "metadata": {},
   "outputs": [
    {
     "data": {
      "text/html": [
       "<div>\n",
       "<style scoped>\n",
       "    .dataframe tbody tr th:only-of-type {\n",
       "        vertical-align: middle;\n",
       "    }\n",
       "\n",
       "    .dataframe tbody tr th {\n",
       "        vertical-align: top;\n",
       "    }\n",
       "\n",
       "    .dataframe thead th {\n",
       "        text-align: right;\n",
       "    }\n",
       "</style>\n",
       "<table border=\"1\" class=\"dataframe\">\n",
       "  <thead>\n",
       "    <tr style=\"text-align: right;\">\n",
       "      <th></th>\n",
       "      <th>0</th>\n",
       "      <th>row_num</th>\n",
       "      <th>~id</th>\n",
       "      <th>~label</th>\n",
       "      <th>publisher_website:String</th>\n",
       "    </tr>\n",
       "  </thead>\n",
       "  <tbody>\n",
       "    <tr>\n",
       "      <th>0</th>\n",
       "      <td>http://eaglerising.com</td>\n",
       "      <td>0</td>\n",
       "      <td>publisher_1</td>\n",
       "      <td>publisher</td>\n",
       "      <td>http://eaglerising.com</td>\n",
       "    </tr>\n",
       "    <tr>\n",
       "      <th>1</th>\n",
       "      <td>http://cnn.it</td>\n",
       "      <td>1</td>\n",
       "      <td>publisher_2</td>\n",
       "      <td>publisher</td>\n",
       "      <td>http://cnn.it</td>\n",
       "    </tr>\n",
       "    <tr>\n",
       "      <th>2</th>\n",
       "      <td>http://conservativebyte.com</td>\n",
       "      <td>2</td>\n",
       "      <td>publisher_3</td>\n",
       "      <td>publisher</td>\n",
       "      <td>http://conservativebyte.com</td>\n",
       "    </tr>\n",
       "    <tr>\n",
       "      <th>3</th>\n",
       "      <td>http://politi.co</td>\n",
       "      <td>3</td>\n",
       "      <td>publisher_4</td>\n",
       "      <td>publisher</td>\n",
       "      <td>http://politi.co</td>\n",
       "    </tr>\n",
       "    <tr>\n",
       "      <th>4</th>\n",
       "      <td>http://abcn.ws</td>\n",
       "      <td>4</td>\n",
       "      <td>publisher_5</td>\n",
       "      <td>publisher</td>\n",
       "      <td>http://abcn.ws</td>\n",
       "    </tr>\n",
       "  </tbody>\n",
       "</table>\n",
       "</div>"
      ],
      "text/plain": [
       "                             0  row_num          ~id     ~label  \\\n",
       "0       http://eaglerising.com        0  publisher_1  publisher   \n",
       "1                http://cnn.it        1  publisher_2  publisher   \n",
       "2  http://conservativebyte.com        2  publisher_3  publisher   \n",
       "3             http://politi.co        3  publisher_4  publisher   \n",
       "4               http://abcn.ws        4  publisher_5  publisher   \n",
       "\n",
       "      publisher_website:String  \n",
       "0       http://eaglerising.com  \n",
       "1                http://cnn.it  \n",
       "2  http://conservativebyte.com  \n",
       "3             http://politi.co  \n",
       "4               http://abcn.ws  "
      ]
     },
     "execution_count": 35,
     "metadata": {},
     "output_type": "execute_result"
    }
   ],
   "source": [
    "publishers_df.head()"
   ]
  },
  {
   "cell_type": "code",
   "execution_count": 36,
   "id": "598f1ae2",
   "metadata": {},
   "outputs": [],
   "source": [
    "# concatenate all nodes dataframes to create an overall nodes (i.e. vertices) dataframe\n",
    "nodes = pd.concat([news, users, publishers_df, authors_df], sort=True, ignore_index=True)"
   ]
  },
  {
   "cell_type": "code",
   "execution_count": 37,
   "id": "ea645938",
   "metadata": {},
   "outputs": [],
   "source": [
    "# drop unwanted columns\n",
    "nodes = nodes.drop(nodes.columns[[0, 1]], axis=1)"
   ]
  },
  {
   "cell_type": "code",
   "execution_count": 38,
   "id": "fe5c6a1d",
   "metadata": {},
   "outputs": [
    {
     "data": {
      "text/plain": [
       "(15593, 7)"
      ]
     },
     "execution_count": 38,
     "metadata": {},
     "output_type": "execute_result"
    }
   ],
   "source": [
    "nodes.shape"
   ]
  },
  {
   "cell_type": "markdown",
   "id": "bec946e8",
   "metadata": {},
   "source": [
    "We have a total of 15593 nodes in the graph!"
   ]
  },
  {
   "cell_type": "code",
   "execution_count": 39,
   "id": "c6bd77f7",
   "metadata": {},
   "outputs": [
    {
     "data": {
      "text/html": [
       "<div>\n",
       "<style scoped>\n",
       "    .dataframe tbody tr th:only-of-type {\n",
       "        vertical-align: middle;\n",
       "    }\n",
       "\n",
       "    .dataframe tbody tr th {\n",
       "        vertical-align: top;\n",
       "    }\n",
       "\n",
       "    .dataframe thead th {\n",
       "        text-align: right;\n",
       "    }\n",
       "</style>\n",
       "<table border=\"1\" class=\"dataframe\">\n",
       "  <thead>\n",
       "    <tr style=\"text-align: right;\">\n",
       "      <th></th>\n",
       "      <th>~id</th>\n",
       "      <th>~label</th>\n",
       "      <th>news_type:String</th>\n",
       "      <th>news_title:String</th>\n",
       "      <th>user_features:Double[]</th>\n",
       "      <th>publisher_website:String</th>\n",
       "      <th>author_name:String</th>\n",
       "    </tr>\n",
       "  </thead>\n",
       "  <tbody>\n",
       "    <tr>\n",
       "      <th>182</th>\n",
       "      <td>user_1</td>\n",
       "      <td>user</td>\n",
       "      <td>NaN</td>\n",
       "      <td>NaN</td>\n",
       "      <td>-6.5335629813853275;-2.539568976534804;-0.0862...</td>\n",
       "      <td>NaN</td>\n",
       "      <td>NaN</td>\n",
       "    </tr>\n",
       "    <tr>\n",
       "      <th>183</th>\n",
       "      <td>user_2</td>\n",
       "      <td>user</td>\n",
       "      <td>NaN</td>\n",
       "      <td>NaN</td>\n",
       "      <td>3.7452664109727127;-2.3658738836989692;0.37171...</td>\n",
       "      <td>NaN</td>\n",
       "      <td>NaN</td>\n",
       "    </tr>\n",
       "    <tr>\n",
       "      <th>184</th>\n",
       "      <td>user_3</td>\n",
       "      <td>user</td>\n",
       "      <td>NaN</td>\n",
       "      <td>NaN</td>\n",
       "      <td>-6.169060740831697;-0.4554150240050502;-2.0617...</td>\n",
       "      <td>NaN</td>\n",
       "      <td>NaN</td>\n",
       "    </tr>\n",
       "    <tr>\n",
       "      <th>185</th>\n",
       "      <td>user_4</td>\n",
       "      <td>user</td>\n",
       "      <td>NaN</td>\n",
       "      <td>NaN</td>\n",
       "      <td>11.19523153278209;-1.182848759491067;0.3934020...</td>\n",
       "      <td>NaN</td>\n",
       "      <td>NaN</td>\n",
       "    </tr>\n",
       "    <tr>\n",
       "      <th>186</th>\n",
       "      <td>user_5</td>\n",
       "      <td>user</td>\n",
       "      <td>NaN</td>\n",
       "      <td>NaN</td>\n",
       "      <td>-6.182361512218626;0.4971749514792787;-0.91511...</td>\n",
       "      <td>NaN</td>\n",
       "      <td>NaN</td>\n",
       "    </tr>\n",
       "  </tbody>\n",
       "</table>\n",
       "</div>"
      ],
      "text/plain": [
       "        ~id ~label news_type:String news_title:String  \\\n",
       "182  user_1   user              NaN               NaN   \n",
       "183  user_2   user              NaN               NaN   \n",
       "184  user_3   user              NaN               NaN   \n",
       "185  user_4   user              NaN               NaN   \n",
       "186  user_5   user              NaN               NaN   \n",
       "\n",
       "                                user_features:Double[]  \\\n",
       "182  -6.5335629813853275;-2.539568976534804;-0.0862...   \n",
       "183  3.7452664109727127;-2.3658738836989692;0.37171...   \n",
       "184  -6.169060740831697;-0.4554150240050502;-2.0617...   \n",
       "185  11.19523153278209;-1.182848759491067;0.3934020...   \n",
       "186  -6.182361512218626;0.4971749514792787;-0.91511...   \n",
       "\n",
       "    publisher_website:String author_name:String  \n",
       "182                      NaN                NaN  \n",
       "183                      NaN                NaN  \n",
       "184                      NaN                NaN  \n",
       "185                      NaN                NaN  \n",
       "186                      NaN                NaN  "
      ]
     },
     "execution_count": 39,
     "metadata": {},
     "output_type": "execute_result"
    }
   ],
   "source": [
    "# user nodes\n",
    "nodes.loc[nodes['~label']=='user'].head()"
   ]
  },
  {
   "cell_type": "code",
   "execution_count": 40,
   "id": "7630693a",
   "metadata": {},
   "outputs": [
    {
     "data": {
      "text/html": [
       "<div>\n",
       "<style scoped>\n",
       "    .dataframe tbody tr th:only-of-type {\n",
       "        vertical-align: middle;\n",
       "    }\n",
       "\n",
       "    .dataframe tbody tr th {\n",
       "        vertical-align: top;\n",
       "    }\n",
       "\n",
       "    .dataframe thead th {\n",
       "        text-align: right;\n",
       "    }\n",
       "</style>\n",
       "<table border=\"1\" class=\"dataframe\">\n",
       "  <thead>\n",
       "    <tr style=\"text-align: right;\">\n",
       "      <th></th>\n",
       "      <th>~id</th>\n",
       "      <th>~label</th>\n",
       "      <th>news_type:String</th>\n",
       "      <th>news_title:String</th>\n",
       "      <th>user_features:Double[]</th>\n",
       "      <th>publisher_website:String</th>\n",
       "      <th>author_name:String</th>\n",
       "    </tr>\n",
       "  </thead>\n",
       "  <tbody>\n",
       "    <tr>\n",
       "      <th>0</th>\n",
       "      <td>news_1</td>\n",
       "      <td>news</td>\n",
       "      <td>Real</td>\n",
       "      <td>Another Terrorist Attack in NYC…Why Are we STI...</td>\n",
       "      <td>NaN</td>\n",
       "      <td>NaN</td>\n",
       "      <td>NaN</td>\n",
       "    </tr>\n",
       "    <tr>\n",
       "      <th>1</th>\n",
       "      <td>news_2</td>\n",
       "      <td>news</td>\n",
       "      <td>Real</td>\n",
       "      <td>Hillary Clinton on police shootings: 'too many...</td>\n",
       "      <td>NaN</td>\n",
       "      <td>NaN</td>\n",
       "      <td>NaN</td>\n",
       "    </tr>\n",
       "    <tr>\n",
       "      <th>2</th>\n",
       "      <td>news_3</td>\n",
       "      <td>news</td>\n",
       "      <td>Real</td>\n",
       "      <td>Critical counties: Wake County, NC, could put ...</td>\n",
       "      <td>NaN</td>\n",
       "      <td>NaN</td>\n",
       "      <td>NaN</td>\n",
       "    </tr>\n",
       "    <tr>\n",
       "      <th>3</th>\n",
       "      <td>news_4</td>\n",
       "      <td>news</td>\n",
       "      <td>Real</td>\n",
       "      <td>NFL Superstar Unleashes 4 Word Bombshell on Re...</td>\n",
       "      <td>NaN</td>\n",
       "      <td>NaN</td>\n",
       "      <td>NaN</td>\n",
       "    </tr>\n",
       "    <tr>\n",
       "      <th>4</th>\n",
       "      <td>news_5</td>\n",
       "      <td>news</td>\n",
       "      <td>Real</td>\n",
       "      <td>Obama in NYC: 'We all have a role to play' in ...</td>\n",
       "      <td>NaN</td>\n",
       "      <td>NaN</td>\n",
       "      <td>NaN</td>\n",
       "    </tr>\n",
       "  </tbody>\n",
       "</table>\n",
       "</div>"
      ],
      "text/plain": [
       "      ~id ~label news_type:String  \\\n",
       "0  news_1   news             Real   \n",
       "1  news_2   news             Real   \n",
       "2  news_3   news             Real   \n",
       "3  news_4   news             Real   \n",
       "4  news_5   news             Real   \n",
       "\n",
       "                                   news_title:String user_features:Double[]  \\\n",
       "0  Another Terrorist Attack in NYC…Why Are we STI...                    NaN   \n",
       "1  Hillary Clinton on police shootings: 'too many...                    NaN   \n",
       "2  Critical counties: Wake County, NC, could put ...                    NaN   \n",
       "3  NFL Superstar Unleashes 4 Word Bombshell on Re...                    NaN   \n",
       "4  Obama in NYC: 'We all have a role to play' in ...                    NaN   \n",
       "\n",
       "  publisher_website:String author_name:String  \n",
       "0                      NaN                NaN  \n",
       "1                      NaN                NaN  \n",
       "2                      NaN                NaN  \n",
       "3                      NaN                NaN  \n",
       "4                      NaN                NaN  "
      ]
     },
     "execution_count": 40,
     "metadata": {},
     "output_type": "execute_result"
    }
   ],
   "source": [
    "# news nodes\n",
    "nodes.loc[nodes['~label']=='news'].head()"
   ]
  },
  {
   "cell_type": "code",
   "execution_count": 41,
   "id": "8cacdae6",
   "metadata": {},
   "outputs": [
    {
     "data": {
      "text/html": [
       "<div>\n",
       "<style scoped>\n",
       "    .dataframe tbody tr th:only-of-type {\n",
       "        vertical-align: middle;\n",
       "    }\n",
       "\n",
       "    .dataframe tbody tr th {\n",
       "        vertical-align: top;\n",
       "    }\n",
       "\n",
       "    .dataframe thead th {\n",
       "        text-align: right;\n",
       "    }\n",
       "</style>\n",
       "<table border=\"1\" class=\"dataframe\">\n",
       "  <thead>\n",
       "    <tr style=\"text-align: right;\">\n",
       "      <th></th>\n",
       "      <th>~id</th>\n",
       "      <th>~label</th>\n",
       "      <th>news_type:String</th>\n",
       "      <th>news_title:String</th>\n",
       "      <th>user_features:Double[]</th>\n",
       "      <th>publisher_website:String</th>\n",
       "      <th>author_name:String</th>\n",
       "    </tr>\n",
       "  </thead>\n",
       "  <tbody>\n",
       "    <tr>\n",
       "      <th>15439</th>\n",
       "      <td>publisher_1</td>\n",
       "      <td>publisher</td>\n",
       "      <td>NaN</td>\n",
       "      <td>NaN</td>\n",
       "      <td>NaN</td>\n",
       "      <td>http://eaglerising.com</td>\n",
       "      <td>NaN</td>\n",
       "    </tr>\n",
       "    <tr>\n",
       "      <th>15440</th>\n",
       "      <td>publisher_2</td>\n",
       "      <td>publisher</td>\n",
       "      <td>NaN</td>\n",
       "      <td>NaN</td>\n",
       "      <td>NaN</td>\n",
       "      <td>http://cnn.it</td>\n",
       "      <td>NaN</td>\n",
       "    </tr>\n",
       "    <tr>\n",
       "      <th>15441</th>\n",
       "      <td>publisher_3</td>\n",
       "      <td>publisher</td>\n",
       "      <td>NaN</td>\n",
       "      <td>NaN</td>\n",
       "      <td>NaN</td>\n",
       "      <td>http://conservativebyte.com</td>\n",
       "      <td>NaN</td>\n",
       "    </tr>\n",
       "    <tr>\n",
       "      <th>15442</th>\n",
       "      <td>publisher_4</td>\n",
       "      <td>publisher</td>\n",
       "      <td>NaN</td>\n",
       "      <td>NaN</td>\n",
       "      <td>NaN</td>\n",
       "      <td>http://politi.co</td>\n",
       "      <td>NaN</td>\n",
       "    </tr>\n",
       "    <tr>\n",
       "      <th>15443</th>\n",
       "      <td>publisher_5</td>\n",
       "      <td>publisher</td>\n",
       "      <td>NaN</td>\n",
       "      <td>NaN</td>\n",
       "      <td>NaN</td>\n",
       "      <td>http://abcn.ws</td>\n",
       "      <td>NaN</td>\n",
       "    </tr>\n",
       "  </tbody>\n",
       "</table>\n",
       "</div>"
      ],
      "text/plain": [
       "               ~id     ~label news_type:String news_title:String  \\\n",
       "15439  publisher_1  publisher              NaN               NaN   \n",
       "15440  publisher_2  publisher              NaN               NaN   \n",
       "15441  publisher_3  publisher              NaN               NaN   \n",
       "15442  publisher_4  publisher              NaN               NaN   \n",
       "15443  publisher_5  publisher              NaN               NaN   \n",
       "\n",
       "      user_features:Double[]     publisher_website:String author_name:String  \n",
       "15439                    NaN       http://eaglerising.com                NaN  \n",
       "15440                    NaN                http://cnn.it                NaN  \n",
       "15441                    NaN  http://conservativebyte.com                NaN  \n",
       "15442                    NaN             http://politi.co                NaN  \n",
       "15443                    NaN               http://abcn.ws                NaN  "
      ]
     },
     "execution_count": 41,
     "metadata": {},
     "output_type": "execute_result"
    }
   ],
   "source": [
    "# publisher nodes\n",
    "nodes.loc[nodes['~label']=='publisher'].head()"
   ]
  },
  {
   "cell_type": "code",
   "execution_count": 42,
   "id": "dc2ebb8e",
   "metadata": {},
   "outputs": [
    {
     "data": {
      "text/html": [
       "<div>\n",
       "<style scoped>\n",
       "    .dataframe tbody tr th:only-of-type {\n",
       "        vertical-align: middle;\n",
       "    }\n",
       "\n",
       "    .dataframe tbody tr th {\n",
       "        vertical-align: top;\n",
       "    }\n",
       "\n",
       "    .dataframe thead th {\n",
       "        text-align: right;\n",
       "    }\n",
       "</style>\n",
       "<table border=\"1\" class=\"dataframe\">\n",
       "  <thead>\n",
       "    <tr style=\"text-align: right;\">\n",
       "      <th></th>\n",
       "      <th>~id</th>\n",
       "      <th>~label</th>\n",
       "      <th>news_type:String</th>\n",
       "      <th>news_title:String</th>\n",
       "      <th>user_features:Double[]</th>\n",
       "      <th>publisher_website:String</th>\n",
       "      <th>author_name:String</th>\n",
       "    </tr>\n",
       "  </thead>\n",
       "  <tbody>\n",
       "    <tr>\n",
       "      <th>15467</th>\n",
       "      <td>author_1</td>\n",
       "      <td>author</td>\n",
       "      <td>NaN</td>\n",
       "      <td>NaN</td>\n",
       "      <td>NaN</td>\n",
       "      <td>NaN</td>\n",
       "      <td>Leonora Cravotta</td>\n",
       "    </tr>\n",
       "    <tr>\n",
       "      <th>15468</th>\n",
       "      <td>author_2</td>\n",
       "      <td>author</td>\n",
       "      <td>NaN</td>\n",
       "      <td>NaN</td>\n",
       "      <td>NaN</td>\n",
       "      <td>NaN</td>\n",
       "      <td>Mj Lee</td>\n",
       "    </tr>\n",
       "    <tr>\n",
       "      <th>15469</th>\n",
       "      <td>author_3</td>\n",
       "      <td>author</td>\n",
       "      <td>NaN</td>\n",
       "      <td>NaN</td>\n",
       "      <td>NaN</td>\n",
       "      <td>NaN</td>\n",
       "      <td>Joyce Tseng</td>\n",
       "    </tr>\n",
       "    <tr>\n",
       "      <th>15470</th>\n",
       "      <td>author_4</td>\n",
       "      <td>author</td>\n",
       "      <td>NaN</td>\n",
       "      <td>NaN</td>\n",
       "      <td>NaN</td>\n",
       "      <td>NaN</td>\n",
       "      <td>Eli Watkins</td>\n",
       "    </tr>\n",
       "    <tr>\n",
       "      <th>15471</th>\n",
       "      <td>author_5</td>\n",
       "      <td>author</td>\n",
       "      <td>NaN</td>\n",
       "      <td>NaN</td>\n",
       "      <td>NaN</td>\n",
       "      <td>NaN</td>\n",
       "      <td>Kevin Liptak</td>\n",
       "    </tr>\n",
       "  </tbody>\n",
       "</table>\n",
       "</div>"
      ],
      "text/plain": [
       "            ~id  ~label news_type:String news_title:String  \\\n",
       "15467  author_1  author              NaN               NaN   \n",
       "15468  author_2  author              NaN               NaN   \n",
       "15469  author_3  author              NaN               NaN   \n",
       "15470  author_4  author              NaN               NaN   \n",
       "15471  author_5  author              NaN               NaN   \n",
       "\n",
       "      user_features:Double[] publisher_website:String author_name:String  \n",
       "15467                    NaN                      NaN   Leonora Cravotta  \n",
       "15468                    NaN                      NaN             Mj Lee  \n",
       "15469                    NaN                      NaN        Joyce Tseng  \n",
       "15470                    NaN                      NaN        Eli Watkins  \n",
       "15471                    NaN                      NaN       Kevin Liptak  "
      ]
     },
     "execution_count": 42,
     "metadata": {},
     "output_type": "execute_result"
    }
   ],
   "source": [
    "# author nodes\n",
    "nodes.loc[nodes['~label']=='author'].head()"
   ]
  },
  {
   "cell_type": "markdown",
   "id": "df3729cc",
   "metadata": {},
   "source": [
    "## Create Edges Table"
   ]
  },
  {
   "cell_type": "code",
   "execution_count": 43,
   "id": "925052c3",
   "metadata": {},
   "outputs": [],
   "source": [
    "# create a list of edges from all edge types including edge labels \n",
    "edges_list = []\n",
    "\n",
    "for i, r in user_user.iterrows():\n",
    "    edges_list.append(('user_user_'+str(i+1), 'user_'+str(r[0]), 'user_'+str(r[1]), 'follows', np.nan))\n",
    "    \n",
    "for i, r in news_user.iterrows():\n",
    "    edges_list.append(('news_user_'+str(i+1), 'news_'+str(r[0]), 'user_'+str(r[1]), 'spread_by', r[2]))\n",
    "    \n",
    "for i, item in enumerate(author_news):\n",
    "    edges_list.append(('author_news_'+str(i+1), 'author_'+str(item[0]), 'news_'+str(item[1]), 'wrote', np.nan))\n",
    "    \n",
    "for i, item in enumerate(publisher_news):\n",
    "    edges_list.append(('publisher_news_'+str(i+1), 'publisher_'+str(item[0]), 'news_'+str(item[1]), 'published', np.nan))\n",
    "    \n",
    "for i, item in enumerate(author_publisher):\n",
    "    edges_list.append(('author_publisher_'+str(i+1), 'author_'+str(item[0]), 'publisher_'+str(item[1]), 'wrote_for', np.nan))"
   ]
  },
  {
   "cell_type": "code",
   "execution_count": 44,
   "id": "ee4e2198",
   "metadata": {},
   "outputs": [],
   "source": [
    "# convert edges_list to a dataframe\n",
    "edges = pd.DataFrame(edges_list, columns=['~id', '~from', '~to', '~label', 'weight:Int'])"
   ]
  },
  {
   "cell_type": "code",
   "execution_count": 45,
   "id": "d37a555c",
   "metadata": {},
   "outputs": [
    {
     "data": {
      "text/html": [
       "<div>\n",
       "<style scoped>\n",
       "    .dataframe tbody tr th:only-of-type {\n",
       "        vertical-align: middle;\n",
       "    }\n",
       "\n",
       "    .dataframe tbody tr th {\n",
       "        vertical-align: top;\n",
       "    }\n",
       "\n",
       "    .dataframe thead th {\n",
       "        text-align: right;\n",
       "    }\n",
       "</style>\n",
       "<table border=\"1\" class=\"dataframe\">\n",
       "  <thead>\n",
       "    <tr style=\"text-align: right;\">\n",
       "      <th></th>\n",
       "      <th>~id</th>\n",
       "      <th>~from</th>\n",
       "      <th>~to</th>\n",
       "      <th>~label</th>\n",
       "      <th>weight:Int</th>\n",
       "    </tr>\n",
       "  </thead>\n",
       "  <tbody>\n",
       "    <tr>\n",
       "      <th>0</th>\n",
       "      <td>user_user_1</td>\n",
       "      <td>user_48</td>\n",
       "      <td>user_1</td>\n",
       "      <td>follows</td>\n",
       "      <td>NaN</td>\n",
       "    </tr>\n",
       "    <tr>\n",
       "      <th>1</th>\n",
       "      <td>user_user_2</td>\n",
       "      <td>user_899</td>\n",
       "      <td>user_1</td>\n",
       "      <td>follows</td>\n",
       "      <td>NaN</td>\n",
       "    </tr>\n",
       "    <tr>\n",
       "      <th>2</th>\n",
       "      <td>user_user_3</td>\n",
       "      <td>user_6781</td>\n",
       "      <td>user_1</td>\n",
       "      <td>follows</td>\n",
       "      <td>NaN</td>\n",
       "    </tr>\n",
       "    <tr>\n",
       "      <th>3</th>\n",
       "      <td>user_user_4</td>\n",
       "      <td>user_10097</td>\n",
       "      <td>user_1</td>\n",
       "      <td>follows</td>\n",
       "      <td>NaN</td>\n",
       "    </tr>\n",
       "    <tr>\n",
       "      <th>4</th>\n",
       "      <td>user_user_5</td>\n",
       "      <td>user_100</td>\n",
       "      <td>user_2</td>\n",
       "      <td>follows</td>\n",
       "      <td>NaN</td>\n",
       "    </tr>\n",
       "  </tbody>\n",
       "</table>\n",
       "</div>"
      ],
      "text/plain": [
       "           ~id       ~from     ~to   ~label  weight:Int\n",
       "0  user_user_1     user_48  user_1  follows         NaN\n",
       "1  user_user_2    user_899  user_1  follows         NaN\n",
       "2  user_user_3   user_6781  user_1  follows         NaN\n",
       "3  user_user_4  user_10097  user_1  follows         NaN\n",
       "4  user_user_5    user_100  user_2  follows         NaN"
      ]
     },
     "execution_count": 45,
     "metadata": {},
     "output_type": "execute_result"
    }
   ],
   "source": [
    "edges.head()"
   ]
  },
  {
   "cell_type": "code",
   "execution_count": 46,
   "id": "d2eaa332",
   "metadata": {},
   "outputs": [
    {
     "data": {
      "text/html": [
       "<div>\n",
       "<style scoped>\n",
       "    .dataframe tbody tr th:only-of-type {\n",
       "        vertical-align: middle;\n",
       "    }\n",
       "\n",
       "    .dataframe tbody tr th {\n",
       "        vertical-align: top;\n",
       "    }\n",
       "\n",
       "    .dataframe thead th {\n",
       "        text-align: right;\n",
       "    }\n",
       "</style>\n",
       "<table border=\"1\" class=\"dataframe\">\n",
       "  <thead>\n",
       "    <tr style=\"text-align: right;\">\n",
       "      <th></th>\n",
       "      <th>~id</th>\n",
       "      <th>~from</th>\n",
       "      <th>~to</th>\n",
       "      <th>~label</th>\n",
       "      <th>weight:Int</th>\n",
       "    </tr>\n",
       "  </thead>\n",
       "  <tbody>\n",
       "    <tr>\n",
       "      <th>634750</th>\n",
       "      <td>news_user_1</td>\n",
       "      <td>news_45</td>\n",
       "      <td>user_1</td>\n",
       "      <td>spread_by</td>\n",
       "      <td>1.0</td>\n",
       "    </tr>\n",
       "    <tr>\n",
       "      <th>634751</th>\n",
       "      <td>news_user_2</td>\n",
       "      <td>news_127</td>\n",
       "      <td>user_2</td>\n",
       "      <td>spread_by</td>\n",
       "      <td>1.0</td>\n",
       "    </tr>\n",
       "    <tr>\n",
       "      <th>634752</th>\n",
       "      <td>news_user_3</td>\n",
       "      <td>news_115</td>\n",
       "      <td>user_3</td>\n",
       "      <td>spread_by</td>\n",
       "      <td>1.0</td>\n",
       "    </tr>\n",
       "    <tr>\n",
       "      <th>634753</th>\n",
       "      <td>news_user_4</td>\n",
       "      <td>news_180</td>\n",
       "      <td>user_3</td>\n",
       "      <td>spread_by</td>\n",
       "      <td>1.0</td>\n",
       "    </tr>\n",
       "    <tr>\n",
       "      <th>634754</th>\n",
       "      <td>news_user_5</td>\n",
       "      <td>news_140</td>\n",
       "      <td>user_4</td>\n",
       "      <td>spread_by</td>\n",
       "      <td>1.0</td>\n",
       "    </tr>\n",
       "  </tbody>\n",
       "</table>\n",
       "</div>"
      ],
      "text/plain": [
       "                ~id     ~from     ~to     ~label  weight:Int\n",
       "634750  news_user_1   news_45  user_1  spread_by         1.0\n",
       "634751  news_user_2  news_127  user_2  spread_by         1.0\n",
       "634752  news_user_3  news_115  user_3  spread_by         1.0\n",
       "634753  news_user_4  news_180  user_3  spread_by         1.0\n",
       "634754  news_user_5  news_140  user_4  spread_by         1.0"
      ]
     },
     "execution_count": 46,
     "metadata": {},
     "output_type": "execute_result"
    }
   ],
   "source": [
    "edges.loc[edges['~label']=='spread_by'].head()"
   ]
  },
  {
   "cell_type": "code",
   "execution_count": 47,
   "id": "dc6c9af2",
   "metadata": {},
   "outputs": [
    {
     "data": {
      "text/plain": [
       "(658203, 5)"
      ]
     },
     "execution_count": 47,
     "metadata": {},
     "output_type": "execute_result"
    }
   ],
   "source": [
    "edges.shape"
   ]
  },
  {
   "cell_type": "markdown",
   "id": "de70fe13",
   "metadata": {},
   "source": [
    "We have a total of 658,203 edges across all edge types!"
   ]
  },
  {
   "cell_type": "markdown",
   "id": "35930adb",
   "metadata": {},
   "source": [
    "## Save Nodes and Edges to File"
   ]
  },
  {
   "cell_type": "code",
   "execution_count": 49,
   "id": "25145af6",
   "metadata": {},
   "outputs": [],
   "source": [
    "!mkdir -p ./Data/upload"
   ]
  },
  {
   "cell_type": "code",
   "execution_count": 50,
   "id": "b064eab6",
   "metadata": {},
   "outputs": [],
   "source": [
    "nodes.to_csv('./Data/upload/nodes.csv', index=False)"
   ]
  },
  {
   "cell_type": "code",
   "execution_count": 51,
   "id": "37d646a4",
   "metadata": {},
   "outputs": [],
   "source": [
    "edges.to_csv('./Data/upload/edges.csv', index=False)"
   ]
  },
  {
   "cell_type": "markdown",
   "id": "9ac84185",
   "metadata": {},
   "source": [
    "## Upload to S3 Bucket"
   ]
  },
  {
   "cell_type": "code",
   "execution_count": 57,
   "id": "2ec5e208",
   "metadata": {},
   "outputs": [],
   "source": [
    "bucket = '<bucket-name>'\n",
    "prefix = 'fake-news-detection/data'\n",
    "s3_client = boto3.client('s3')"
   ]
  },
  {
   "cell_type": "code",
   "execution_count": 58,
   "id": "5f34b86f",
   "metadata": {},
   "outputs": [],
   "source": [
    "resp = s3_client.upload_file('./Data/upload/nodes.csv', bucket, f\"{prefix}/nodes.csv\")\n",
    "resp = s3_client.upload_file('./Data/upload/edges.csv', bucket, f\"{prefix}/edges.csv\")"
   ]
  },
  {
   "cell_type": "markdown",
   "id": "60e79928",
   "metadata": {},
   "source": [
    "## Bulk Load to Neptune "
   ]
  },
  {
   "cell_type": "markdown",
   "id": "d96d8fd8",
   "metadata": {},
   "source": [
    "We use the `%load` magic command which is available as part of the AWS `graph-notebook` to bulk load data to our Neptune database. You can use the `%graph_notebook_config` magic command to see information about the Neptune cluster associated with your graph-notebook, and `%status` magic command to see the status of your Neptune cluster.\n",
    "\n",
    "Note: Use [these CloudFormation templates](https://docs.aws.amazon.com/neptune/latest/userguide/machine-learning-quick-start.html) to quickly spin up a `graph-notebook`, an associted Neptune cluster, and set up all the configurations needed to work with Neptune ML in a `graph-notebook`."
   ]
  },
  {
   "cell_type": "code",
   "execution_count": 63,
   "id": "d985b408",
   "metadata": {},
   "outputs": [],
   "source": [
    "s3_uri = f\"s3://{bucket}/{prefix}\""
   ]
  },
  {
   "cell_type": "code",
   "execution_count": null,
   "id": "c74ae4ac",
   "metadata": {},
   "outputs": [],
   "source": [
    "%load -s {s3_uri} -f csv -p OVERSUBSCRIBE --run"
   ]
  },
  {
   "cell_type": "markdown",
   "id": "4dd75525",
   "metadata": {},
   "source": [
    "Once the above cell has completed, the data has been loaded into the cluster. We verify the data loaded correctly by running the traversals below to see the count of nodes and edges by label:"
   ]
  },
  {
   "cell_type": "code",
   "execution_count": 67,
   "id": "dac8af1d",
   "metadata": {},
   "outputs": [
    {
     "data": {
      "application/vnd.jupyter.widget-view+json": {
       "model_id": "6ce6aaf38f694bf9b946a17924ef156c",
       "version_major": 2,
       "version_minor": 0
      },
      "text/plain": [
       "Tab(children=(Output(layout=Layout(max_height='600px', overflow='scroll', width='100%')), Output(layout=Layout…"
      ]
     },
     "metadata": {},
     "output_type": "display_data"
    }
   ],
   "source": [
    "%%gremlin\n",
    "g.V().groupCount().by(label).unfold().order().by(keys)"
   ]
  },
  {
   "cell_type": "code",
   "execution_count": 68,
   "id": "e235add5",
   "metadata": {},
   "outputs": [
    {
     "data": {
      "application/vnd.jupyter.widget-view+json": {
       "model_id": "964c84cab1c04fa080af22e56d63e66a",
       "version_major": 2,
       "version_minor": 0
      },
      "text/plain": [
       "Tab(children=(Output(layout=Layout(max_height='600px', overflow='scroll', width='100%')), Output(layout=Layout…"
      ]
     },
     "metadata": {},
     "output_type": "display_data"
    }
   ],
   "source": [
    "%%gremlin\n",
    "g.E().groupCount().by(label).unfold().order().by(keys)"
   ]
  },
  {
   "cell_type": "markdown",
   "id": "69229a6e",
   "metadata": {},
   "source": [
    "We can see that all nodes and edges have been loaded to the Neptune cluster!"
   ]
  },
  {
   "cell_type": "code",
   "execution_count": null,
   "id": "6476a810",
   "metadata": {},
   "outputs": [],
   "source": []
  }
 ],
 "metadata": {
  "kernelspec": {
   "display_name": "Python 3",
   "language": "python",
   "name": "python3"
  },
  "language_info": {
   "codemirror_mode": {
    "name": "ipython",
    "version": 3
   },
   "file_extension": ".py",
   "mimetype": "text/x-python",
   "name": "python",
   "nbconvert_exporter": "python",
   "pygments_lexer": "ipython3",
   "version": "3.7.12"
  }
 },
 "nbformat": 4,
 "nbformat_minor": 5
}
