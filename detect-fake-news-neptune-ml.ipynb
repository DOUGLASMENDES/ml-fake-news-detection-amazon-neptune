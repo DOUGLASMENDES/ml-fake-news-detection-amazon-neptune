{
 "cells": [
  {
   "cell_type": "markdown",
   "id": "d9f690a0",
   "metadata": {},
   "source": [
    "# Detect Social Media Fake News using Amazon Neptune ML"
   ]
  },
  {
   "cell_type": "markdown",
   "id": "3ae453fc",
   "metadata": {},
   "source": [
    "In this notebook we demonstrate how to use Graph Machine Learning from Amazon Neptune ML to identify fake news on social media. We created a graph dataset based on the [BuzzFeed data](https://github.com/KaiDMML/FakeNewsNet/tree/old-version/Data/BuzzFeed) from the 2018 version of FakeNewsNet in the `create-graph-dataset.ipynb` notebook. \n",
    "\n",
    "Note: Use [these CloudFormation templates](https://docs.aws.amazon.com/neptune/latest/userguide/machine-learning-quick-start.html) to quickly spin up a `graph-notebook`, an associted Neptune cluster, and set up all the configurations needed to work with Neptune ML in a `graph-notebook`. You can use the `%graph_notebook_config` magic command to see information about the Neptune cluster associated with your graph-notebook, and `%status` magic command to see the status of your Neptune cluster."
   ]
  },
  {
   "cell_type": "markdown",
   "id": "7094cf6d",
   "metadata": {},
   "source": [
    "## Setup"
   ]
  },
  {
   "cell_type": "code",
   "execution_count": 1,
   "id": "c8e71304",
   "metadata": {},
   "outputs": [
    {
     "name": "stdout",
     "output_type": "stream",
     "text": [
      "This Neptune cluster is configured to use Neptune ML\n"
     ]
    }
   ],
   "source": [
    "# import required libraries\n",
    "import boto3\n",
    "import sagemaker\n",
    "import pandas as pd\n",
    "import utils.neptune_ml_utils as neptune_ml\n",
    "# Check to make sure your Neptune cluster is configured to run Neptune ML.\n",
    "neptune_ml.check_ml_enabled()"
   ]
  },
  {
   "cell_type": "code",
   "execution_count": 2,
   "id": "61fbd6d7",
   "metadata": {},
   "outputs": [],
   "source": [
    "# S3 location that will be used to store data, processing results and model artifacts\n",
    "bucket = '<bucket-name>'\n",
    "prefix = 'fake-news-detection'\n",
    "s3_uri = f\"s3://{bucket}/{prefix}\""
   ]
  },
  {
   "cell_type": "markdown",
   "id": "724711ec",
   "metadata": {},
   "source": [
    "## Checking Neptune DB"
   ]
  },
  {
   "cell_type": "markdown",
   "id": "b631760b",
   "metadata": {},
   "source": [
    "Check the status of the Neptune cluster:"
   ]
  },
  {
   "cell_type": "code",
   "execution_count": 3,
   "id": "8eb943d3",
   "metadata": {},
   "outputs": [
    {
     "data": {
      "text/plain": [
       "{'status': 'healthy',\n",
       " 'startTime': 'Sat Apr 23 14:55:12 UTC 2022',\n",
       " 'dbEngineVersion': '',\n",
       " 'role': 'writer',\n",
       " 'gremlin': {'version': 'tinkerpop-3.4.11'},\n",
       " 'sparql': {'version': 'sparql-1.1'},\n",
       " 'labMode': {'ObjectIndex': 'disabled',\n",
       "  'DFEQueryEngine': 'viaQueryHint',\n",
       "  'ReadWriteConflictDetection': 'enabled'},\n",
       " 'features': {'ResultCache': {'status': 'disabled'},\n",
       "  'IAMAuthentication': 'disabled',\n",
       "  'Streams': 'disabled',\n",
       "  'AuditLog': 'disabled'},\n",
       " 'settings': {'clusterQueryTimeoutInMs': '7200000'}}"
      ]
     },
     "execution_count": 3,
     "metadata": {},
     "output_type": "execute_result"
    }
   ],
   "source": [
    "%status"
   ]
  },
  {
   "cell_type": "markdown",
   "id": "a494fcab",
   "metadata": {},
   "source": [
    "To verify that the graph dataset is loaded in the Neptune cluster, we run the following Gremlin traversals to see the count of nodes and edges by label:"
   ]
  },
  {
   "cell_type": "code",
   "execution_count": 4,
   "id": "57b96e80",
   "metadata": {},
   "outputs": [
    {
     "data": {
      "application/vnd.jupyter.widget-view+json": {
       "model_id": "0cdb0ae0afb94af78edd59e1a25b9a10",
       "version_major": 2,
       "version_minor": 0
      },
      "text/plain": [
       "Tab(children=(Output(layout=Layout(max_height='600px', overflow='scroll', width='100%')), Output(layout=Layout…"
      ]
     },
     "metadata": {},
     "output_type": "display_data"
    }
   ],
   "source": [
    "%%gremlin\n",
    "g.V().groupCount().by(label).unfold().order().by(keys)"
   ]
  },
  {
   "cell_type": "markdown",
   "id": "017211d9",
   "metadata": {},
   "source": [
    "If nodes are loaded correctly, the output would be:\n",
    "\n",
    "* 126 `author` nodes\n",
    "* 182 `news` nodes\n",
    "* 28 `publisher` nodes\n",
    "* 15,257 `user` nodes"
   ]
  },
  {
   "cell_type": "code",
   "execution_count": 5,
   "id": "d52d36d0",
   "metadata": {},
   "outputs": [
    {
     "data": {
      "application/vnd.jupyter.widget-view+json": {
       "model_id": "f129f38c13a8412e94bc1581db5c5eac",
       "version_major": 2,
       "version_minor": 0
      },
      "text/plain": [
       "Tab(children=(Output(layout=Layout(max_height='600px', overflow='scroll', width='100%')), Output(layout=Layout…"
      ]
     },
     "metadata": {},
     "output_type": "display_data"
    }
   ],
   "source": [
    "%%gremlin\n",
    "g.E().groupCount().by(label).unfold().order().by(keys)"
   ]
  },
  {
   "cell_type": "markdown",
   "id": "a14eae40",
   "metadata": {},
   "source": [
    "If edges are loaded correctly, then the output would be:\n",
    "\n",
    "* 634,750 `follows` edges\n",
    "* 174 `published` edges\n",
    "* 250 `wrote` edges\n",
    "* 250 `wrote_for` edges"
   ]
  },
  {
   "cell_type": "markdown",
   "id": "a13f307f",
   "metadata": {},
   "source": [
    "## Preparing for Export\n",
    "With our data validated, let's simulate new `news` being added into our graph by removing the `news_type` property (i.e. the target variable for machine learning) from two of the `news` nodes. We will treat these nodes as testing nodes later (i.e. will run inference on them at the end to determine whether they're `real` or `fake`)\n",
    "\n",
    "Let's begin by taking a look at the current value of the `news_type` property for those two `news` nodes."
   ]
  },
  {
   "cell_type": "code",
   "execution_count": 6,
   "id": "0a95c7e2",
   "metadata": {
    "scrolled": true
   },
   "outputs": [
    {
     "data": {
      "application/vnd.jupyter.widget-view+json": {
       "model_id": "6cefd73b85604e9d955ff836089724d2",
       "version_major": 2,
       "version_minor": 0
      },
      "text/plain": [
       "Tab(children=(Output(layout=Layout(max_height='600px', overflow='scroll', width='100%')), Output(layout=Layout…"
      ]
     },
     "metadata": {},
     "output_type": "display_data"
    }
   ],
   "source": [
    "%%gremlin\n",
    "\n",
    "g.V().has('news', 'news_title', within(\"Jeb Bush to lecture at Harvard this fall\", \"BREAKING: Steps to FORCE FBI Director Comey to Resign In Process – Hearing Decides His Fate Sept 28\")).\n",
    "    valueMap('news_title', 'news_type')"
   ]
  },
  {
   "cell_type": "markdown",
   "id": "30b1cd37",
   "metadata": {},
   "source": [
    "Now let's remove these `news_type` property values from the data."
   ]
  },
  {
   "cell_type": "code",
   "execution_count": 7,
   "id": "cae94561",
   "metadata": {},
   "outputs": [
    {
     "data": {
      "application/vnd.jupyter.widget-view+json": {
       "model_id": "0f570306dda4431cad378d1a5d02f0f8",
       "version_major": 2,
       "version_minor": 0
      },
      "text/plain": [
       "Tab(children=(Output(layout=Layout(max_height='600px', overflow='scroll', width='100%')), Output(layout=Layout…"
      ]
     },
     "metadata": {},
     "output_type": "display_data"
    }
   ],
   "source": [
    "%%gremlin\n",
    "\n",
    "g.V().has('news', 'news_title', within(\"Jeb Bush to lecture at Harvard this fall\", \"BREAKING: Steps to FORCE FBI Director Comey to Resign In Process – Hearing Decides His Fate Sept 28\")).\n",
    "    properties('news_type').drop()\n"
   ]
  },
  {
   "cell_type": "markdown",
   "id": "600ae785",
   "metadata": {},
   "source": [
    "Let's check those two `news` nodes again to verify that they no longer have `news_type` values."
   ]
  },
  {
   "cell_type": "code",
   "execution_count": 8,
   "id": "0d809d07",
   "metadata": {},
   "outputs": [
    {
     "data": {
      "application/vnd.jupyter.widget-view+json": {
       "model_id": "d4e0fa8e73e247b4a2c4a12d276164b0",
       "version_major": 2,
       "version_minor": 0
      },
      "text/plain": [
       "Tab(children=(Output(layout=Layout(max_height='600px', overflow='scroll', width='100%')), Output(layout=Layout…"
      ]
     },
     "metadata": {},
     "output_type": "display_data"
    }
   ],
   "source": [
    "%%gremlin\n",
    "\n",
    "g.V().has('news', 'news_title', within(\"Jeb Bush to lecture at Harvard this fall\", \"BREAKING: Steps to FORCE FBI Director Comey to Resign In Process – Hearing Decides His Fate Sept 28\")).\n",
    "    valueMap('news_title', 'news_type')"
   ]
  },
  {
   "cell_type": "markdown",
   "id": "17b2ffc3",
   "metadata": {},
   "source": [
    "## Exporting Data and Model Configuration\n",
    "\n",
    "The export process is triggered by calling to the Neptune Export service endpoint. This call contains a configuration object which specifies the type of machine learning model to build, in our case `node classification`, as well as any feature configurations required.\n",
    "\n",
    "The configuration options provided to the Neptune Export service are broken into two main sections, selecting the target and configuring features. Here we want to classify `news` nodes according to the `news_type` property. \n",
    "\n",
    "The second section of the configuration, configuring features, is where we specify details about the types of data stored in our graph and how the machine learning model should interpret that data. When data is exported from Neptune, all properties of all nodes are included. Each property is treated as a separate feature for the ML model. Neptune ML does its best to infer the correct type of feature for a property, in many cases, the accuracy of the model can be improved by specifying information about the property used for a feature. We use [word2vec](https://en.wikipedia.org/wiki/Word2vec) for encoding `news_title` property of `news` nodes, and `numerical` type for `user_features` property of `user` nodes."
   ]
  },
  {
   "cell_type": "code",
   "execution_count": 9,
   "id": "d9f8987a",
   "metadata": {},
   "outputs": [],
   "source": [
    "export_params={ \n",
    "\"command\": \"export-pg\", \n",
    "\"params\": { \"endpoint\": neptune_ml.get_host(),\n",
    "            \"profile\": \"neptune_ml\",\n",
    "            \"useIamAuth\": neptune_ml.get_iam(),\n",
    "            \"cloneCluster\": False\n",
    "            }, \n",
    "\"outputS3Path\": f\"{s3_uri}/neptune-export\",\n",
    "\"additionalParams\": {\n",
    "        \"neptune_ml\": {\n",
    "          \"version\": \"v2.0\",\n",
    "          \"targets\": [\n",
    "            {\n",
    "              \"node\": \"news\",\n",
    "              \"property\": \"news_type\",\n",
    "              \"type\": \"classification\"\n",
    "            }\n",
    "          ],\n",
    "         \"features\": [\n",
    "            {\n",
    "                \"node\": \"news\",\n",
    "                \"property\": \"news_title\",\n",
    "                \"type\": \"text_word2vec\"\n",
    "            },\n",
    "            {\n",
    "                \"node\": \"user\",\n",
    "                \"property\": \"user_features\",\n",
    "                \"type\": \"numerical\"\n",
    "            }\n",
    "         ]\n",
    "        }\n",
    "      },\n",
    "\"jobSize\": \"medium\"}"
   ]
  },
  {
   "cell_type": "code",
   "execution_count": 10,
   "id": "909b6aa9",
   "metadata": {},
   "outputs": [
    {
     "data": {
      "application/vnd.jupyter.widget-view+json": {
       "model_id": "e126fc720b584d62aafd76927de34bbc",
       "version_major": 2,
       "version_minor": 0
      },
      "text/plain": [
       "Output()"
      ]
     },
     "metadata": {},
     "output_type": "display_data"
    }
   ],
   "source": [
    "%%neptune_ml export start --export-url {neptune_ml.get_export_service_host()} --export-iam --wait --store-to export_results\n",
    "${export_params}"
   ]
  },
  {
   "cell_type": "markdown",
   "id": "9c3254c9",
   "metadata": {},
   "source": [
    "## ML Data Processing\n",
    "\n",
    "Once the export job is completed we are ready to train our machine learning model and create the inference endpoint. There are three machine learning steps in Neptune ML. The first step (data processing) processes the exported graph dataset using standard feature preprocessing techniques to prepare it for use by [Deep Graph Library (DGL)](https://www.dgl.ai/). This step performs functions such as feature normalization for numeric data and encoding text features using word2vec. At the conclusion of this step the dataset is formatted for model training.\n",
    "\n",
    "This step is implemented using a SageMaker Processing Job and data artifacts are stored in a pre-specified S3 location once the job is completed. Running the cells below will create the data processing configuration and begin the processing job."
   ]
  },
  {
   "cell_type": "code",
   "execution_count": 11,
   "id": "f084a487",
   "metadata": {},
   "outputs": [],
   "source": [
    "# The training_job_name can be set to a unique value below, otherwise one will be auto generated\n",
    "training_job_name=neptune_ml.get_training_job_name('fake-news-detection')\n",
    "\n",
    "processing_params = f\"\"\"\n",
    "--config-file-name training-data-configuration.json\n",
    "--job-id {training_job_name} \n",
    "--s3-input-uri {export_results['outputS3Uri']} \n",
    "--s3-processed-uri {str(s3_uri)}/preloading \"\"\""
   ]
  },
  {
   "cell_type": "code",
   "execution_count": null,
   "id": "27c1a331",
   "metadata": {},
   "outputs": [
    {
     "data": {
      "application/vnd.jupyter.widget-view+json": {
       "model_id": "a708cf57dcf74c6ca531e8fcd3c93336",
       "version_major": 2,
       "version_minor": 0
      },
      "text/plain": [
       "Output()"
      ]
     },
     "metadata": {},
     "output_type": "display_data"
    }
   ],
   "source": [
    "%neptune_ml dataprocessing start --wait --store-to processing_results {processing_params}"
   ]
  },
  {
   "cell_type": "markdown",
   "id": "6d477acd",
   "metadata": {},
   "source": [
    "## Model Training\n",
    "The second step (model training) trains the ML model that will be used for predictions. The model training is done in two stages. The first stage uses a SageMaker Processing job to generate a model training strategy. A model training strategy is a configuration set that specifies what type of model and model hyperparameter ranges will be used for the model training. Once the first stage is complete, the SageMaker Processing job launches a SageMaker Hyperparameter tuning job. The SageMaker Hyperparameter tuning job runs a pre-specified number of model training job trials on the processed data, and stores the model artifacts generated by the training in the output S3 location. Once all the training jobs are complete, the Hyperparameter tuning job also notes the training job that produced the best performing model."
   ]
  },
  {
   "cell_type": "code",
   "execution_count": null,
   "id": "4588fd01",
   "metadata": {},
   "outputs": [],
   "source": [
    "training_params=f\"\"\"\n",
    "--job-id {training_job_name}\n",
    "--data-processing-id {training_job_name} \n",
    "--instance-type ml.c5.18xlarge\n",
    "--s3-output-uri {str(s3_uri)}/training\n",
    "--max-hpo-number 20\n",
    "--max-hpo-parallel 4 \"\"\""
   ]
  },
  {
   "cell_type": "code",
   "execution_count": null,
   "id": "1af31b2a",
   "metadata": {
    "scrolled": true
   },
   "outputs": [],
   "source": [
    "%neptune_ml training start --wait --store-to training_results {training_params}"
   ]
  },
  {
   "cell_type": "markdown",
   "id": "37f9304b",
   "metadata": {},
   "source": [
    "### Evaluating HPO Job"
   ]
  },
  {
   "cell_type": "markdown",
   "id": "e1ae7c64",
   "metadata": {},
   "source": [
    "In this section we retrieve the results of Hyperparameter Tuning job and summarize hyperparameters of the five best training jobs and their respective model performance.  "
   ]
  },
  {
   "cell_type": "code",
   "execution_count": 15,
   "id": "44b4435c",
   "metadata": {},
   "outputs": [],
   "source": [
    "tuning_job_name = training_results['hpoJob']['name']\n",
    "tuner = sagemaker.HyperparameterTuningJobAnalytics(tuning_job_name)"
   ]
  },
  {
   "cell_type": "code",
   "execution_count": 16,
   "id": "dd233cbf",
   "metadata": {},
   "outputs": [
    {
     "name": "stdout",
     "output_type": "stream",
     "text": [
      "Number of training jobs with valid objective: 20\n",
      "{'lowest': 0.44440001249313354, 'highest': 0.8888999819755554}\n"
     ]
    },
    {
     "data": {
      "text/html": [
       "<div>\n",
       "<style scoped>\n",
       "    .dataframe tbody tr th:only-of-type {\n",
       "        vertical-align: middle;\n",
       "    }\n",
       "\n",
       "    .dataframe tbody tr th {\n",
       "        vertical-align: top;\n",
       "    }\n",
       "\n",
       "    .dataframe thead th {\n",
       "        text-align: right;\n",
       "    }\n",
       "</style>\n",
       "<table border=\"1\" class=\"dataframe\">\n",
       "  <thead>\n",
       "    <tr style=\"text-align: right;\">\n",
       "      <th></th>\n",
       "      <th>dropout</th>\n",
       "      <th>global-norm</th>\n",
       "      <th>lr</th>\n",
       "      <th>num-hidden</th>\n",
       "      <th>TrainingJobName</th>\n",
       "      <th>TrainingJobStatus</th>\n",
       "      <th>FinalObjectiveValue</th>\n",
       "      <th>TrainingStartTime</th>\n",
       "      <th>TrainingEndTime</th>\n",
       "      <th>TrainingElapsedTimeSeconds</th>\n",
       "    </tr>\n",
       "  </thead>\n",
       "  <tbody>\n",
       "    <tr>\n",
       "      <th>12</th>\n",
       "      <td>0.212499</td>\n",
       "      <td>\"True\"</td>\n",
       "      <td>0.004484</td>\n",
       "      <td>\"64\"</td>\n",
       "      <td>fake-nav-neptune-ml-220423-2137-008-8183199f</td>\n",
       "      <td>Completed</td>\n",
       "      <td>0.8889</td>\n",
       "      <td>2022-04-23 21:42:40+00:00</td>\n",
       "      <td>2022-04-23 21:43:51+00:00</td>\n",
       "      <td>71.0</td>\n",
       "    </tr>\n",
       "    <tr>\n",
       "      <th>19</th>\n",
       "      <td>0.417023</td>\n",
       "      <td>\"False\"</td>\n",
       "      <td>0.003385</td>\n",
       "      <td>\"128\"</td>\n",
       "      <td>fake-nav-neptune-ml-220423-2137-001-f9891462</td>\n",
       "      <td>Stopped</td>\n",
       "      <td>0.7778</td>\n",
       "      <td>2022-04-23 21:39:19+00:00</td>\n",
       "      <td>2022-04-23 21:40:48+00:00</td>\n",
       "      <td>89.0</td>\n",
       "    </tr>\n",
       "    <tr>\n",
       "      <th>17</th>\n",
       "      <td>0.124452</td>\n",
       "      <td>\"True\"</td>\n",
       "      <td>0.004415</td>\n",
       "      <td>\"16\"</td>\n",
       "      <td>fake-nav-neptune-ml-220423-2137-003-469b9749</td>\n",
       "      <td>Completed</td>\n",
       "      <td>0.7778</td>\n",
       "      <td>2022-04-23 21:39:11+00:00</td>\n",
       "      <td>2022-04-23 21:40:33+00:00</td>\n",
       "      <td>82.0</td>\n",
       "    </tr>\n",
       "    <tr>\n",
       "      <th>9</th>\n",
       "      <td>0.222499</td>\n",
       "      <td>\"True\"</td>\n",
       "      <td>0.004283</td>\n",
       "      <td>\"64\"</td>\n",
       "      <td>fake-nav-neptune-ml-220423-2137-011-a87cbac7</td>\n",
       "      <td>Completed</td>\n",
       "      <td>0.7778</td>\n",
       "      <td>2022-04-23 21:45:35+00:00</td>\n",
       "      <td>2022-04-23 21:46:47+00:00</td>\n",
       "      <td>72.0</td>\n",
       "    </tr>\n",
       "    <tr>\n",
       "      <th>16</th>\n",
       "      <td>0.023261</td>\n",
       "      <td>\"True\"</td>\n",
       "      <td>0.007504</td>\n",
       "      <td>\"64\"</td>\n",
       "      <td>fake-nav-neptune-ml-220423-2137-004-bc38bb1a</td>\n",
       "      <td>Completed</td>\n",
       "      <td>0.7778</td>\n",
       "      <td>2022-04-23 21:39:19+00:00</td>\n",
       "      <td>2022-04-23 21:41:07+00:00</td>\n",
       "      <td>108.0</td>\n",
       "    </tr>\n",
       "  </tbody>\n",
       "</table>\n",
       "</div>"
      ],
      "text/plain": [
       "     dropout global-norm        lr num-hidden  \\\n",
       "12  0.212499      \"True\"  0.004484       \"64\"   \n",
       "19  0.417023     \"False\"  0.003385      \"128\"   \n",
       "17  0.124452      \"True\"  0.004415       \"16\"   \n",
       "9   0.222499      \"True\"  0.004283       \"64\"   \n",
       "16  0.023261      \"True\"  0.007504       \"64\"   \n",
       "\n",
       "                                 TrainingJobName TrainingJobStatus  \\\n",
       "12  fake-nav-neptune-ml-220423-2137-008-8183199f         Completed   \n",
       "19  fake-nav-neptune-ml-220423-2137-001-f9891462           Stopped   \n",
       "17  fake-nav-neptune-ml-220423-2137-003-469b9749         Completed   \n",
       "9   fake-nav-neptune-ml-220423-2137-011-a87cbac7         Completed   \n",
       "16  fake-nav-neptune-ml-220423-2137-004-bc38bb1a         Completed   \n",
       "\n",
       "    FinalObjectiveValue         TrainingStartTime           TrainingEndTime  \\\n",
       "12               0.8889 2022-04-23 21:42:40+00:00 2022-04-23 21:43:51+00:00   \n",
       "19               0.7778 2022-04-23 21:39:19+00:00 2022-04-23 21:40:48+00:00   \n",
       "17               0.7778 2022-04-23 21:39:11+00:00 2022-04-23 21:40:33+00:00   \n",
       "9                0.7778 2022-04-23 21:45:35+00:00 2022-04-23 21:46:47+00:00   \n",
       "16               0.7778 2022-04-23 21:39:19+00:00 2022-04-23 21:41:07+00:00   \n",
       "\n",
       "    TrainingElapsedTimeSeconds  \n",
       "12                        71.0  \n",
       "19                        89.0  \n",
       "17                        82.0  \n",
       "9                         72.0  \n",
       "16                       108.0  "
      ]
     },
     "execution_count": 16,
     "metadata": {},
     "output_type": "execute_result"
    }
   ],
   "source": [
    "full_df = tuner.dataframe()\n",
    "\n",
    "if len(full_df) > 0:\n",
    "    df = full_df[full_df[\"FinalObjectiveValue\"] > -float(\"inf\")]\n",
    "    if len(df) > 0:\n",
    "        df = df.sort_values(\"FinalObjectiveValue\", ascending=False)\n",
    "        print(\"Number of training jobs with valid objective: %d\" % len(df))\n",
    "        print({\"lowest\": min(df[\"FinalObjectiveValue\"]), \"highest\": max(df[\"FinalObjectiveValue\"])})\n",
    "        pd.set_option(\"display.max_colwidth\", None)  # Don't truncate TrainingJobName\n",
    "    else:\n",
    "        print(\"No training jobs have reported valid results yet.\")\n",
    "\n",
    "df.head()"
   ]
  },
  {
   "cell_type": "markdown",
   "id": "262a6a53",
   "metadata": {},
   "source": [
    "We can see that the best performing training job has acheived an accuracy of ~89%. This training job will be automatically selected by Neptune ML for creating an endpoint in the next step."
   ]
  },
  {
   "cell_type": "markdown",
   "id": "3c20e3c9",
   "metadata": {},
   "source": [
    "## Endpoint Creation\n",
    "The final step of machine learning is to create an inference endpoint which is an Amazon SageMaker endpoint instance that is launched with the model artifacts produced by the best training job. This endpoint will be used by our graph queries to return the model predictions for the inputs in the request. Once the endpoint is created, it stays active until it is manually deleted."
   ]
  },
  {
   "cell_type": "code",
   "execution_count": 17,
   "id": "b43f3a68",
   "metadata": {},
   "outputs": [],
   "source": [
    "endpoint_params=f\"\"\"\n",
    "--id {training_job_name}\n",
    "--model-training-job-id {training_job_name} \"\"\""
   ]
  },
  {
   "cell_type": "code",
   "execution_count": 18,
   "id": "0d566043",
   "metadata": {},
   "outputs": [
    {
     "data": {
      "application/vnd.jupyter.widget-view+json": {
       "model_id": "107d275cfc214ab2a8db7c1d04e3aa6e",
       "version_major": 2,
       "version_minor": 0
      },
      "text/plain": [
       "Output()"
      ]
     },
     "metadata": {},
     "output_type": "display_data"
    }
   ],
   "source": [
    "%neptune_ml endpoint create --wait --store-to endpoint_results {endpoint_params}"
   ]
  },
  {
   "cell_type": "markdown",
   "id": "17fa8f92",
   "metadata": {},
   "source": [
    "Once this has completed we get the endpoint name for our newly created inference endpoint. The cell below will set the endpoint name which will be used in the Gremlin queries below."
   ]
  },
  {
   "cell_type": "code",
   "execution_count": 19,
   "id": "da7647d1",
   "metadata": {},
   "outputs": [],
   "source": [
    "endpoint=endpoint_results['endpoint']['name']"
   ]
  },
  {
   "cell_type": "markdown",
   "id": "755293ac",
   "metadata": {},
   "source": [
    "## Predicting Values using Gremlin Queries\n",
    "Now that we have our inference endpoint setup let's query our graph to see how the model predicts `news_type` for our new `news` nodes:"
   ]
  },
  {
   "cell_type": "code",
   "execution_count": 20,
   "id": "69f1d04d",
   "metadata": {},
   "outputs": [
    {
     "data": {
      "application/vnd.jupyter.widget-view+json": {
       "model_id": "02c4a82e79ff4b70b315d7f65f6b25d7",
       "version_major": 2,
       "version_minor": 0
      },
      "text/plain": [
       "Tab(children=(Output(layout=Layout(max_height='600px', overflow='scroll', width='100%')), Output(layout=Layout…"
      ]
     },
     "metadata": {},
     "output_type": "display_data"
    }
   ],
   "source": [
    "%%gremlin\n",
    "g.with(\"Neptune#ml.endpoint\", \"${endpoint}\").\n",
    "  V().has('news_title', \"Jeb Bush to lecture at Harvard this fall\").\n",
    "  properties(\"news_type\").with(\"Neptune#ml.classification\").value()"
   ]
  },
  {
   "cell_type": "code",
   "execution_count": 21,
   "id": "6fb74d25",
   "metadata": {},
   "outputs": [
    {
     "data": {
      "application/vnd.jupyter.widget-view+json": {
       "model_id": "4151d163d7e347f0ae6418f3aec224c7",
       "version_major": 2,
       "version_minor": 0
      },
      "text/plain": [
       "Tab(children=(Output(layout=Layout(max_height='600px', overflow='scroll', width='100%')), Output(layout=Layout…"
      ]
     },
     "metadata": {},
     "output_type": "display_data"
    }
   ],
   "source": [
    "%%gremlin\n",
    "g.with(\"Neptune#ml.endpoint\", \"${endpoint}\").\n",
    "  V().has('news_title', \"BREAKING: Steps to FORCE FBI Director Comey to Resign In Process – Hearing Decides His Fate Sept 28\")\n",
    "  .properties(\"news_type\").with(\"Neptune#ml.classification\").value()"
   ]
  },
  {
   "cell_type": "markdown",
   "id": "3c6acbed",
   "metadata": {},
   "source": [
    "We see that the model correctly predicts `news_type` for both test nodes!"
   ]
  },
  {
   "cell_type": "markdown",
   "id": "eec0de8e",
   "metadata": {},
   "source": [
    "## Cleaning Up"
   ]
  },
  {
   "cell_type": "markdown",
   "id": "09d92399",
   "metadata": {},
   "source": [
    "Now that we can delete the inference endpoint to avoid recurring costs!"
   ]
  },
  {
   "cell_type": "code",
   "execution_count": 22,
   "id": "84f68410",
   "metadata": {},
   "outputs": [
    {
     "name": "stdout",
     "output_type": "stream",
     "text": [
      "\n",
      "Endpoint fake-news-detection-1650749255 has been deleted\n"
     ]
    }
   ],
   "source": [
    "neptune_ml.delete_endpoint(training_job_name)"
   ]
  },
  {
   "cell_type": "code",
   "execution_count": null,
   "id": "02f7f0b4",
   "metadata": {},
   "outputs": [],
   "source": []
  }
 ],
 "metadata": {
  "kernelspec": {
   "display_name": "Python 3",
   "language": "python",
   "name": "python3"
  },
  "language_info": {
   "codemirror_mode": {
    "name": "ipython",
    "version": 3
   },
   "file_extension": ".py",
   "mimetype": "text/x-python",
   "name": "python",
   "nbconvert_exporter": "python",
   "pygments_lexer": "ipython3",
   "version": "3.7.12"
  }
 },
 "nbformat": 4,
 "nbformat_minor": 5
}
